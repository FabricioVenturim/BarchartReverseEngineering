{
 "cells": [
  {
   "cell_type": "code",
   "execution_count": 1,
   "metadata": {
    "colab": {
     "base_uri": "https://localhost:8080/",
     "height": 34
    },
    "colab_type": "code",
    "executionInfo": {
     "elapsed": 7334,
     "status": "ok",
     "timestamp": 1576554298643,
     "user": {
      "displayName": "Wenjiang Chen",
      "photoUrl": "https://lh3.googleusercontent.com/a-/AAuE7mBMn6iUe24F4ARB1mZnAAeZXY6kn28FF8QTnvs=s64",
      "userId": "07092294420956086629"
     },
     "user_tz": -480
    },
    "id": "U8l4RJ0XRPEm",
    "outputId": "c3e4da8f-b0d5-4e6f-cd5e-5b922dc473b1"
   },
   "outputs": [
    {
     "name": "stderr",
     "output_type": "stream",
     "text": [
      "2023-07-25 13:15:15.076608: I tensorflow/core/platform/cpu_feature_guard.cc:182] This TensorFlow binary is optimized to use available CPU instructions in performance-critical operations.\n",
      "To enable the following instructions: AVX2 FMA, in other operations, rebuild TensorFlow with the appropriate compiler flags.\n",
      "2023-07-25 13:15:15.950474: W tensorflow/compiler/tf2tensorrt/utils/py_utils.cc:38] TF-TRT Warning: Could not find TensorRT\n"
     ]
    }
   ],
   "source": [
    "import tensorflow as tf\n",
    "from tensorflow.keras.callbacks import ModelCheckpoint\n",
    "from tensorflow.keras.models import save_model, load_model\n",
    "\n",
    "# You'll generate plots of attention in order to see which parts of an image\n",
    "# our model focuses on during captioning\n",
    "import matplotlib.pyplot as plt\n",
    "import matplotlib.patches as patches  # Don't forget to import patches\n",
    "\n",
    "# Scikit-learn includes many helpful utilities\n",
    "from sklearn.model_selection import train_test_split\n",
    "from sklearn.utils import shuffle\n",
    "\n",
    "\n",
    "import re\n",
    "import numpy as np\n",
    "import os\n",
    "import time\n",
    "import json\n",
    "import pickle\n",
    "import ast\n",
    "import cv2\n",
    "\n",
    "from glob import glob\n",
    "from PIL import Image\n",
    "from tqdm import tqdm"
   ]
  },
  {
   "cell_type": "code",
   "execution_count": 2,
   "metadata": {},
   "outputs": [
    {
     "name": "stdout",
     "output_type": "stream",
     "text": [
      "Versão do TensorFlow: 2.13.0\n"
     ]
    }
   ],
   "source": [
    "print(\"Versão do TensorFlow:\", tf.__version__)"
   ]
  },
  {
   "cell_type": "code",
   "execution_count": 3,
   "metadata": {},
   "outputs": [
    {
     "name": "stderr",
     "output_type": "stream",
     "text": [
      "2023-07-25 13:15:21.788944: I tensorflow/compiler/xla/stream_executor/cuda/cuda_gpu_executor.cc:995] successful NUMA node read from SysFS had negative value (-1), but there must be at least one NUMA node, so returning NUMA node zero. See more at https://github.com/torvalds/linux/blob/v6.0/Documentation/ABI/testing/sysfs-bus-pci#L344-L355\n",
      "2023-07-25 13:15:21.814934: I tensorflow/compiler/xla/stream_executor/cuda/cuda_gpu_executor.cc:995] successful NUMA node read from SysFS had negative value (-1), but there must be at least one NUMA node, so returning NUMA node zero. See more at https://github.com/torvalds/linux/blob/v6.0/Documentation/ABI/testing/sysfs-bus-pci#L344-L355\n",
      "2023-07-25 13:15:21.815157: I tensorflow/compiler/xla/stream_executor/cuda/cuda_gpu_executor.cc:995] successful NUMA node read from SysFS had negative value (-1), but there must be at least one NUMA node, so returning NUMA node zero. See more at https://github.com/torvalds/linux/blob/v6.0/Documentation/ABI/testing/sysfs-bus-pci#L344-L355\n"
     ]
    },
    {
     "data": {
      "text/plain": [
       "[PhysicalDevice(name='/physical_device:CPU:0', device_type='CPU'),\n",
       " PhysicalDevice(name='/physical_device:GPU:0', device_type='GPU')]"
      ]
     },
     "execution_count": 3,
     "metadata": {},
     "output_type": "execute_result"
    }
   ],
   "source": [
    "tf.config.list_physical_devices()"
   ]
  },
  {
   "cell_type": "code",
   "execution_count": 6,
   "metadata": {
    "colab": {},
    "colab_type": "code",
    "id": "mGFm1-wVu2I1"
   },
   "outputs": [],
   "source": [
    "# Configuration\n",
    "SEP = \" -<>- \"\n",
    "IMG_SIZE = 299\n",
    "MAX_LENGTH = 9\n",
    "\n",
    "\n",
    "PATH = \"/home/fabricio/Área de Trabalho/BarchartReverseEngineering-master/dataset/train\"\n",
    "IMG_PATH = PATH + \"/plots/\"\n",
    "BARS_PATH = PATH + \"/train_barbbox.idl\"\n",
    "IMGSIZE_PATH = PATH + \"/train_imgsize.idl\"\n",
    "\n",
    "START_TOKEN = [1.0, 1.0, 0.0] \n",
    "END_TOKEN = [0.0, 0.0, 0.0]"
   ]
  },
  {
   "cell_type": "code",
   "execution_count": 7,
   "metadata": {
    "colab": {},
    "colab_type": "code",
    "id": "Dd7U1JLlzNSd"
   },
   "outputs": [],
   "source": [
    "# utilities\n",
    "\n",
    "def get_normalized_data(bbox, real_imgsize):\n",
    "    '''\n",
    "    return bar's center coordinate and height\n",
    "\n",
    "    Parameters:\n",
    "    bbox (list): [x1, y1, x2, y2]\n",
    "    real_imgsize (tuple): (imgsize, bar_direction)\n",
    "    '''\n",
    "\n",
    "    imgsize, bar_direction = real_imgsize\n",
    "\n",
    "    x_m = ((bbox[2] + bbox[0])/2)/imgsize[0]\n",
    "    y_m = ((bbox[3] + bbox[1])/2)/imgsize[1]\n",
    "\n",
    "    # top-left and bottom-right x coordinates divided by image width\n",
    "    bbox[0] /= imgsize[0]\n",
    "    bbox[2] /= imgsize[0]\n",
    "    # top-left and bottom-right y coordinates divided by image height\n",
    "    bbox[1] /= imgsize[1]\n",
    "    bbox[3] /= imgsize[1]\n",
    "\n",
    "\n",
    "    # normalized height\n",
    "    if bar_direction == \"vertical\":\n",
    "        height = abs(bbox[3] - bbox[1])\n",
    "        result = [x_m, y_m, height]\n",
    "    else:\n",
    "        height = abs(bbox[2] - bbox[0])\n",
    "        result = [x_m, y_m, height]\n",
    "\n",
    "    return result\n",
    "\n",
    "def load_image(image_path):\n",
    "    img = tf.io.read_file(image_path)\n",
    "    # decode_jpeg also works for png\n",
    "    img = tf.image.decode_jpeg(img, channels=3)\n",
    "    img = tf.image.resize(img, (299, 299))\n",
    "    img = tf.keras.applications.xception.preprocess_input(img)\n",
    "    return img, image_path"
   ]
  },
  {
   "cell_type": "code",
   "execution_count": 8,
   "metadata": {
    "colab": {
     "base_uri": "https://localhost:8080/",
     "height": 34
    },
    "colab_type": "code",
    "executionInfo": {
     "elapsed": 7936,
     "status": "ok",
     "timestamp": 1576554736603,
     "user": {
      "displayName": "Wenjiang Chen",
      "photoUrl": "https://lh3.googleusercontent.com/a-/AAuE7mBMn6iUe24F4ARB1mZnAAeZXY6kn28FF8QTnvs=s64",
      "userId": "07092294420956086629"
     },
     "user_tz": -480
    },
    "id": "4G3b8x8_RPFD",
    "outputId": "3f000a3a-2b7e-489b-cdc1-ad2330066fae"
   },
   "outputs": [
    {
     "name": "stderr",
     "output_type": "stream",
     "text": [
      "330it [00:00, 3298.33it/s]"
     ]
    },
    {
     "name": "stderr",
     "output_type": "stream",
     "text": [
      "30000it [00:02, 13147.97it/s]\n"
     ]
    }
   ],
   "source": [
    "all_bars = []\n",
    "all_img_name_vector = []\n",
    "\n",
    "# BAR_PATH = \"C:/Users/fabri/OneDrive/Área de Trabalho/BarchartReverseEngineering/data/train/train_barbbox.idl\"\n",
    "# IMGSIZE_PATH = \"C:/Users/fabri/OneDrive/Área de Trabalho/BarchartReverseEngineering/data/train/train_imgsize.idl\"\n",
    "\n",
    "\n",
    "with open(BARS_PATH, \"r\") as fbar, open(IMGSIZE_PATH, \"r\") as fsize:\n",
    "    # fsize is the file that contains the image size\n",
    "    # fbar is the file that contains the bar's bounding box\n",
    "\n",
    "    for bars, imgsize in tqdm(zip(fbar, fsize)):\n",
    "        bars = bars.strip() #remove \\n\n",
    "        imgsize = imgsize.strip() #remove \\n\n",
    "        bars = bars.split(SEP) # split by separator\n",
    "        imgsize = imgsize.split(SEP) # split by separator\n",
    "        assert bars[0] == imgsize[0], \"image name not match!\" # check if the image name is the same\n",
    "        \n",
    "        all_img_name_vector.append(IMG_PATH + bars[0]) # add image path to the vector\n",
    "        boxs = ast.literal_eval(bars[1]) # convert string to list\n",
    "        imgsize = ast.literal_eval(imgsize[1]) # convert string to tuple\n",
    "        one_img_bar = [START_TOKEN] # start-token \n",
    "        \n",
    "        for box in boxs:\n",
    "            bbox = box[\"bbox\"]\n",
    "            bar_info = get_normalized_data(bbox, imgsize)\n",
    "            one_img_bar.append(bar_info)\n",
    "        one_img_bar.append(END_TOKEN) # end-token\n",
    "        # padding the sequence\n",
    "        if len(one_img_bar) < MAX_LENGTH + 2:\n",
    "            need = MAX_LENGTH + 2 - len(one_img_bar)\n",
    "            for i in range(need):\n",
    "                one_img_bar.append(END_TOKEN)\n",
    "        \n",
    "        all_bars.append(one_img_bar)\n",
    "\n",
    "bars_vector, img_name_vector = shuffle(all_bars, all_img_name_vector, random_state=1)"
   ]
  },
  {
   "cell_type": "markdown",
   "metadata": {},
   "source": [
    "First value: Y coordinate of the center of the bar.\n",
    "\n",
    "Second value: X-coordinate of the center of the bar.\n",
    "\n",
    "Third value: Normalized bar height."
   ]
  },
  {
   "cell_type": "code",
   "execution_count": 9,
   "metadata": {
    "colab": {
     "base_uri": "https://localhost:8080/",
     "height": 70
    },
    "colab_type": "code",
    "executionInfo": {
     "elapsed": 7821,
     "status": "ok",
     "timestamp": 1576554737048,
     "user": {
      "displayName": "Wenjiang Chen",
      "photoUrl": "https://lh3.googleusercontent.com/a-/AAuE7mBMn6iUe24F4ARB1mZnAAeZXY6kn28FF8QTnvs=s64",
      "userId": "07092294420956086629"
     },
     "user_tz": -480
    },
    "id": "mPBMgK34RPFL",
    "outputId": "5a41883c-152d-4978-9df0-fbe12fc561d2"
   },
   "outputs": [
    {
     "name": "stdout",
     "output_type": "stream",
     "text": [
      "11 101\n",
      "[[1.0, 1.0, 0.0], [0.3756038647342995, 0.2122153209109731, 0.45169082125603865], [0.5024154589371981, 0.2836438923395445, 0.7053140096618358], [0.48792270531400966, 0.47619047619047616, 0.6763285024154589], [0.32608695652173914, 0.5476190476190477, 0.3526570048309179], [0.5060386473429952, 0.7401656314699793, 0.71256038647343], [0.5, 0.8126293995859213, 0.7004830917874396], [0.0, 0.0, 0.0], [0.0, 0.0, 0.0], [0.0, 0.0, 0.0], [0.0, 0.0, 0.0]]\n",
      "/home/fabricio/Área de Trabalho/BarchartReverseEngineering-master/dataset/train/plots/train_10747.png\n"
     ]
    }
   ],
   "source": [
    "# *** unit test section ***\n",
    "print(len(bars_vector[0]), len(img_name_vector[0]))\n",
    "print(bars_vector[0])\n",
    "print(img_name_vector[0])"
   ]
  },
  {
   "cell_type": "code",
   "execution_count": 10,
   "metadata": {},
   "outputs": [
    {
     "name": "stdout",
     "output_type": "stream",
     "text": [
      "30000 30000\n"
     ]
    }
   ],
   "source": [
    "print(len(img_name_vector), len(bars_vector))"
   ]
  },
  {
   "cell_type": "code",
   "execution_count": 11,
   "metadata": {},
   "outputs": [
    {
     "data": {
      "image/png": "[encoded data removed]",
      "text/plain": [
       "<Figure size 640x480 with 1 Axes>"
      ]
     },
     "metadata": {},
     "output_type": "display_data"
    }
   ],
   "source": [
    "img = cv2.imread(\"dataset/train/plots/train_10747.png\")\n",
    "\n",
    "for i in range(len(bars_vector[0])):\n",
    "    x = int(bars_vector[0][i][0] * img.shape[1])\n",
    "    y = int(bars_vector[0][i][1] * img.shape[0])\n",
    "    cv2.circle(img, (x, y), 5, (0, 255, 0), -1)\n",
    "\n",
    "plt.imshow(cv2.cvtColor(img, cv2.COLOR_BGR2RGB))\n",
    "plt.axis('off')\n",
    "plt.show()"
   ]
  },
  {
   "cell_type": "code",
   "execution_count": 12,
   "metadata": {
    "colab": {},
    "colab_type": "code",
    "id": "iS7DDMszRPGF"
   },
   "outputs": [],
   "source": [
    "max_length = MAX_LENGTH + 2\n",
    "\n",
    "# higher some data just to test the model\n",
    "# img_name_vector = img_name_vector[:int(len(img_name_vector) * 1/50)]\n",
    "# bars_vector = bars_vector[:int(len(bars_vector) * 1/50)]\n",
    "\n",
    "# Create training and validation sets\n",
    "img_name_train, img_name_val, bar_train, bar_val = train_test_split(img_name_vector, bars_vector, test_size=0.04, random_state=0)"
   ]
  },
  {
   "cell_type": "code",
   "execution_count": 13,
   "metadata": {
    "colab": {
     "base_uri": "https://localhost:8080/",
     "height": 34
    },
    "colab_type": "code",
    "executionInfo": {
     "elapsed": 2931,
     "status": "ok",
     "timestamp": 1576554737051,
     "user": {
      "displayName": "Wenjiang Chen",
      "photoUrl": "https://lh3.googleusercontent.com/a-/AAuE7mBMn6iUe24F4ARB1mZnAAeZXY6kn28FF8QTnvs=s64",
      "userId": "07092294420956086629"
     },
     "user_tz": -480
    },
    "id": "XmViPkRFRPGH",
    "outputId": "a8aef13e-58f5-4786-f889-fbd56508cf1d"
   },
   "outputs": [
    {
     "data": {
      "text/plain": [
       "(28800, 28800, 1200, 1200)"
      ]
     },
     "execution_count": 13,
     "metadata": {},
     "output_type": "execute_result"
    }
   ],
   "source": [
    "len(img_name_train), len(bar_train), len(img_name_val), len(bar_val)"
   ]
  },
  {
   "cell_type": "code",
   "execution_count": 14,
   "metadata": {
    "colab": {},
    "colab_type": "code",
    "id": "Q3TnZ1ToRPGV"
   },
   "outputs": [],
   "source": [
    "# Feel free to change these parameters according to your system's configuration\n",
    "\n",
    "BATCH_SIZE = 32 \n",
    "BUFFER_SIZE = 1000\n",
    "embedding_dim = 256\n",
    "units = 512\n",
    "barinfo_size = 3\n",
    "num_steps = len(img_name_train) // BATCH_SIZE\n",
    "# Shape of the vector extracted from InceptionV3 is (64, 2048)\n",
    "# These two variables represent that vector shape\n",
    "features_shape = 2048\n",
    "attention_features_shape = 100"
   ]
  },
  {
   "cell_type": "code",
   "execution_count": 15,
   "metadata": {
    "colab": {},
    "colab_type": "code",
    "id": "SmZS2N0bXG3T"
   },
   "outputs": [],
   "source": [
    "# Load the numpy files\n",
    "def map_func(img_name, cap):\n",
    "    #img_tensor = np.load(img_name.decode('utf-8')+'.npy')\n",
    "    img_tensor, _ = load_image(img_name)\n",
    "    return img_tensor, cap"
   ]
  },
  {
   "cell_type": "code",
   "execution_count": 16,
   "metadata": {
    "colab": {},
    "colab_type": "code",
    "id": "FDF_Nm3tRPGZ"
   },
   "outputs": [
    {
     "name": "stderr",
     "output_type": "stream",
     "text": [
      "2023-07-25 13:16:44.295137: I tensorflow/compiler/xla/stream_executor/cuda/cuda_gpu_executor.cc:995] successful NUMA node read from SysFS had negative value (-1), but there must be at least one NUMA node, so returning NUMA node zero. See more at https://github.com/torvalds/linux/blob/v6.0/Documentation/ABI/testing/sysfs-bus-pci#L344-L355\n",
      "2023-07-25 13:16:44.296383: I tensorflow/compiler/xla/stream_executor/cuda/cuda_gpu_executor.cc:995] successful NUMA node read from SysFS had negative value (-1), but there must be at least one NUMA node, so returning NUMA node zero. See more at https://github.com/torvalds/linux/blob/v6.0/Documentation/ABI/testing/sysfs-bus-pci#L344-L355\n",
      "2023-07-25 13:16:44.297552: I tensorflow/compiler/xla/stream_executor/cuda/cuda_gpu_executor.cc:995] successful NUMA node read from SysFS had negative value (-1), but there must be at least one NUMA node, so returning NUMA node zero. See more at https://github.com/torvalds/linux/blob/v6.0/Documentation/ABI/testing/sysfs-bus-pci#L344-L355\n",
      "2023-07-25 13:16:45.078749: I tensorflow/compiler/xla/stream_executor/cuda/cuda_gpu_executor.cc:995] successful NUMA node read from SysFS had negative value (-1), but there must be at least one NUMA node, so returning NUMA node zero. See more at https://github.com/torvalds/linux/blob/v6.0/Documentation/ABI/testing/sysfs-bus-pci#L344-L355\n",
      "2023-07-25 13:16:45.078962: I tensorflow/compiler/xla/stream_executor/cuda/cuda_gpu_executor.cc:995] successful NUMA node read from SysFS had negative value (-1), but there must be at least one NUMA node, so returning NUMA node zero. See more at https://github.com/torvalds/linux/blob/v6.0/Documentation/ABI/testing/sysfs-bus-pci#L344-L355\n",
      "2023-07-25 13:16:45.079127: I tensorflow/compiler/xla/stream_executor/cuda/cuda_gpu_executor.cc:995] successful NUMA node read from SysFS had negative value (-1), but there must be at least one NUMA node, so returning NUMA node zero. See more at https://github.com/torvalds/linux/blob/v6.0/Documentation/ABI/testing/sysfs-bus-pci#L344-L355\n",
      "2023-07-25 13:16:45.079257: I tensorflow/core/common_runtime/gpu/gpu_device.cc:1639] Created device /job:localhost/replica:0/task:0/device:GPU:0 with 2617 MB memory:  -> device: 0, name: NVIDIA GeForce GTX 1650, pci bus id: 0000:01:00.0, compute capability: 7.5\n"
     ]
    }
   ],
   "source": [
    "# create tf dataset object \n",
    "dataset = tf.data.Dataset.from_tensor_slices((img_name_train, bar_train))\n",
    "\n",
    "# Use map to load the numpy files in parallel\n",
    "dataset = dataset.map(lambda item1, item2: tf.numpy_function(\n",
    "          map_func, [item1, item2], [tf.float32, tf.float32]),\n",
    "          num_parallel_calls=tf.data.experimental.AUTOTUNE)\n",
    "\n",
    "# Shuffle and batch\n",
    "dataset = dataset.shuffle(BUFFER_SIZE).batch(BATCH_SIZE)\n",
    "dataset = dataset.prefetch(buffer_size=tf.data.experimental.AUTOTUNE)"
   ]
  },
  {
   "cell_type": "markdown",
   "metadata": {},
   "source": [
    "### Attention Model"
   ]
  },
  {
   "cell_type": "markdown",
   "metadata": {},
   "source": [
    "This class implements the Bahdanau attention mechanism, which is used to calculate attention weights in a neural translation model called Seq2Seq. Bahdanau attention is a form of alignment-based attention that allows the model to focus on different parts of the input while generating the output. In this specific case, the attention is applied to input features generated by a CNN encoder layer."
   ]
  },
  {
   "cell_type": "code",
   "execution_count": 17,
   "metadata": {
    "colab": {},
    "colab_type": "code",
    "id": "ja2LFTMSdeV3"
   },
   "outputs": [],
   "source": [
    "class BahdanauAttention(tf.keras.Model):\n",
    "  def __init__(self, units):\n",
    "    # units: dimension of the hidden layer\n",
    "    super(BahdanauAttention, self).__init__()\n",
    "    self.W1 = tf.keras.layers.Dense(units)\n",
    "    self.W2 = tf.keras.layers.Dense(units)\n",
    "    self.V = tf.keras.layers.Dense(1)\n",
    "\n",
    "  def call(self, features, hidden):\n",
    "    # features: CNN_encoder output\n",
    "    # features(CNN_encoder output) shape == (batch_size, 64, embedding_dim)\n",
    "\n",
    "    # hidden: hidden state of the RNN_decoder (last state)\n",
    "    # hidden shape == (batch_size, hidden_size)\n",
    "    # hidden_with_time_axis shape == (batch_size, 1, hidden_size)\n",
    "\n",
    "    hidden_with_time_axis = tf.expand_dims(hidden, 1)\n",
    "\n",
    "    # score shape == (batch_size, 64, hidden_size)\n",
    "    #print(\"feature:\", features.shape)\n",
    "    #print(\"hidden:\", hidden_with_time_axis.shape)\n",
    "    score = tf.nn.tanh(self.W1(features) + self.W2(hidden_with_time_axis))\n",
    "\n",
    "    # attention_weights shape == (batch_size, 64, 1)\n",
    "    # you get 1 at the last axis because you are applying score to self.V\n",
    "    attention_weights = tf.nn.softmax(self.V(score), axis=1)\n",
    "\n",
    "    # context_vector shape after sum == (batch_size, hidden_size)\n",
    "    context_vector = attention_weights * features\n",
    "    context_vector = tf.reduce_sum(context_vector, axis=1)\n",
    "    #print(\"context:\", context_vector.shape)\n",
    "\n",
    "    return context_vector, attention_weights"
   ]
  },
  {
   "cell_type": "markdown",
   "metadata": {},
   "source": [
    "### Encoder"
   ]
  },
  {
   "cell_type": "markdown",
   "metadata": {},
   "source": [
    "This class represents a CNN encoder. It is used to extract features from an input image. It has a pre-trained convolutional neural network (CNN) layer, which is used to extract features from the image. The extracted features are then passed through a dense (fully connected) layer to properly scale them."
   ]
  },
  {
   "cell_type": "code",
   "execution_count": 18,
   "metadata": {
    "colab": {},
    "colab_type": "code",
    "id": "AZ7R1RxHRPGf"
   },
   "outputs": [],
   "source": [
    "class CNN_Encoder(tf.keras.Model):\n",
    "    # Since you have already extracted the features and dumped it using pickle\n",
    "    # This encoder passes those features through a Fully connected layer\n",
    "    def __init__(self, embedding_dim):\n",
    "        super(CNN_Encoder, self).__init__()\n",
    "        # shape after fc == (batch_size, 64, embedding_dim)\n",
    "        self.fc = tf.keras.layers.Dense(embedding_dim)\n",
    "\n",
    "        # load the pre-trained model      \n",
    "        image_model = tf.keras.applications.Xception(include_top=False, weights='imagenet', pooling=None)\n",
    "        new_input = image_model.input\n",
    "        hidden_layer = image_model.output\n",
    "\n",
    "        # receive the input and output of the pre-trained model\n",
    "        self.image_features_extract_model = tf.keras.Model(new_input, hidden_layer)\n",
    "        L = len(self.image_features_extract_model.layers)\n",
    "        \n",
    "        # last 10 layers are trainable, others are not trainable\n",
    "        for i, layer in enumerate(self.image_features_extract_model.layers):\n",
    "          if i < L - 10:\n",
    "            layer.trainable = False\n",
    "          else:\n",
    "            layer.trainable = True\n",
    "\n",
    "    def call(self, x):\n",
    "        x = self.image_features_extract_model(x)\n",
    "        x = tf.reshape(x, [x.shape[0], -1, x.shape[-1]]) # (batch_size, 64, embedding_dim)\n",
    "        x = self.fc(x)\n",
    "        x = tf.nn.relu(x)\n",
    "        return x"
   ]
  },
  {
   "cell_type": "markdown",
   "metadata": {},
   "source": [
    "### Decoder"
   ]
  },
  {
   "cell_type": "markdown",
   "metadata": {},
   "source": [
    "This class is responsible for decoding in a Seq2Seq model. It uses an RNN decoder layer (in this case, a GRU layer) to generate the output sequence based on the input features and the hidden state from the previous decoder step. It also uses the Bahdanau attention mechanism to weight the input features according to their relative importance at each decoding step."
   ]
  },
  {
   "cell_type": "code",
   "execution_count": 19,
   "metadata": {
    "colab": {},
    "colab_type": "code",
    "id": "V9UbGQmERPGi"
   },
   "outputs": [],
   "source": [
    "class RNN_Decoder(tf.keras.Model):\n",
    "  # RNN_decoder: LSTM\n",
    "  # embedding_dim: dimension of the embedding layer\n",
    "  # units: dimension of the hidden layer\n",
    "  # barinfo_size: dimension of the bar information\n",
    "  def __init__(self, embedding_dim, units, barinfo_size):\n",
    "    super(RNN_Decoder, self).__init__()\n",
    "    self.units = units\n",
    "\n",
    "    # embedding layer to transform the input into a vector of dimension embedding_dim \n",
    "    self.embedding = tf.keras.layers.Dense(embedding_dim, activation=\"relu\")\n",
    "    # GRU: a type of RNN\n",
    "    self.gru = tf.keras.layers.GRU(self.units, return_sequences=True, return_state=True, recurrent_initializer='glorot_uniform')\n",
    "    self.fc1 = tf.keras.layers.Dense(self.units, activation=\"relu\")\n",
    "    self.fc2 = tf.keras.layers.Dense(barinfo_size, activation=\"relu\")\n",
    "\n",
    "    self.attention = BahdanauAttention(self.units)\n",
    "\n",
    "  def call(self, x, features, state):\n",
    "    # defining attention as a separate model\n",
    "    context_vector, attention_weights = self.attention(features, state)\n",
    "    \n",
    "    # x shape after passing through embedding == (batch_size, 1, embedding_dim)\n",
    "    x = self.embedding(x)\n",
    "\n",
    "    # x shape after concatenation == (batch_size, 1, embedding_dim + hidden_size)\n",
    "    # Concatenate the input vector x with the context vector to incorporate relevant information from both the previous bar and the attention-based context. \n",
    "    # This allows the decoder to consider both the local information (previous bar) and the global context (graph features) when generating the next bar information.  \n",
    "    x = tf.concat([tf.expand_dims(context_vector, 1), x], axis=-1)\n",
    "\n",
    "    # passing the concatenated vector to the GRU\n",
    "    #print(\"x:\", x.shape)\n",
    "    #output: a batch of sequences of vectors of dimension units\n",
    "    #state: the last hidden state of the GRU\n",
    "    output, state= self.gru(x)\n",
    "\n",
    "    # shape == (batch_size, max_length, hidden_size)\n",
    "    x = self.fc1(output)\n",
    "\n",
    "    # x shape == (batch_size * max_length, hidden_size)\n",
    "    x = tf.reshape(x, (-1, x.shape[2]))\n",
    "\n",
    "    # output shape == (batch_size * max_length, vocab)\n",
    "    x = self.fc2(x)\n",
    "\n",
    "    return x, state, attention_weights\n",
    "\n",
    "  def reset_state(self, batch_size):\n",
    "    return tf.zeros((batch_size, self.units))"
   ]
  },
  {
   "cell_type": "code",
   "execution_count": 20,
   "metadata": {},
   "outputs": [],
   "source": [
    "encoder = CNN_Encoder(embedding_dim)\n",
    "decoder = RNN_Decoder(embedding_dim, units, barinfo_size)"
   ]
  },
  {
   "cell_type": "code",
   "execution_count": 22,
   "metadata": {
    "colab": {},
    "colab_type": "code",
    "id": "-bYN7xA0RPGl"
   },
   "outputs": [],
   "source": [
    "# Define the optimizer and the loss function\n",
    "\n",
    "# learning rate decay schedule (exponential decay)\n",
    "lr_schedule = tf.keras.optimizers.schedules.ExponentialDecay(0.01, decay_steps=500, decay_rate=0.96, staircase=True)\n",
    "\n",
    "# update the weights of the model using the stochastic gradient descent (SGD) optimizer\n",
    "optimizer = tf.keras.optimizers.SGD(learning_rate=lr_schedule)\n",
    "# optimizer = tf.keras.optimizers.Adam(learning_rate=0.01)\n",
    "#optimizer = tf.keras.optimizers.RMSprop()\n",
    "\n",
    "# loss function\n",
    "loss_object = tf.keras.losses.MeanSquaredError()\n",
    "\n",
    "def loss_function(real, pred):\n",
    "    loss_ = loss_object(real, pred)\n",
    "    return tf.reduce_mean(loss_)"
   ]
  },
  {
   "cell_type": "markdown",
   "metadata": {},
   "source": [
    "========================================================================================================"
   ]
  },
  {
   "cell_type": "code",
   "execution_count": 23,
   "metadata": {},
   "outputs": [],
   "source": [
    "checkpoint_path = \"model_checkpoint\"\n",
    "\n",
    "if not os.path.exists(checkpoint_path):\n",
    "    os.makedirs(checkpoint_path)\n",
    "\n",
    "ckpt = tf.train.Checkpoint(encoder=encoder, decoder=decoder)\n",
    "ckpt_manager = tf.train.CheckpointManager(ckpt, checkpoint_path, max_to_keep=5)"
   ]
  },
  {
   "cell_type": "code",
   "execution_count": 24,
   "metadata": {},
   "outputs": [
    {
     "name": "stdout",
     "output_type": "stream",
     "text": [
      "Training from scratch ...\n"
     ]
    }
   ],
   "source": [
    "start_epoch = 0\n",
    "if ckpt_manager.latest_checkpoint:\n",
    "    start_epoch = int(ckpt_manager.latest_checkpoint.split('-')[-1])\n",
    "\n",
    "if ckpt_manager.latest_checkpoint:\n",
    "    ckpt.restore(ckpt_manager.latest_checkpoint)\n",
    "    print(f\"Restoring from previous step {start_epoch} ...\")\n",
    "else:\n",
    "    print(\"Training from scratch ...\")"
   ]
  },
  {
   "cell_type": "markdown",
   "metadata": {},
   "source": [
    "========================================================================================================"
   ]
  },
  {
   "cell_type": "code",
   "execution_count": 25,
   "metadata": {
    "colab": {},
    "colab_type": "code",
    "id": "Vt4WZ5mhJE-E"
   },
   "outputs": [],
   "source": [
    "# adding this in a separate cell because if you run the training cell\n",
    "# many times, the loss_plot array will be reset\n",
    "loss_plot = []"
   ]
  },
  {
   "cell_type": "code",
   "execution_count": 29,
   "metadata": {
    "colab": {},
    "colab_type": "code",
    "id": "sqgyz2ANKlpU"
   },
   "outputs": [],
   "source": [
    "@tf.function\n",
    "def train_step(img_tensor, target):\n",
    "  loss = 0\n",
    "\n",
    "  # initializing the hidden state for each batch\n",
    "  # because the target are not related from image to image\n",
    "  state = decoder.reset_state(batch_size=target.shape[0])\n",
    "\n",
    "  dec_input = tf.expand_dims([START_TOKEN] * BATCH_SIZE, 1)\n",
    "\n",
    "  # gradient\n",
    "  with tf.GradientTape() as tape:\n",
    "      # getting the output from the encoder\n",
    "      features = encoder(img_tensor) # (batch_size, 64, embedding_dim)\n",
    "\n",
    "      # for each bar in the target sequence\n",
    "      for i in range(1, target.shape[1]):\n",
    "          # passing the features through the decoder\n",
    "          predictions, state, _ = decoder(dec_input, features, state)\n",
    "          loss += loss_function(target[:, i], predictions)\n",
    "\n",
    "          # using teacher forcing\n",
    "          dec_input = tf.expand_dims(target[:, i], 1)\n",
    "\n",
    "  # averaging the loss\n",
    "  total_loss = (loss / int(target.shape[1]))\n",
    "\n",
    "  # getting the trainable variables\n",
    "  trainable_variables = encoder.trainable_variables + decoder.trainable_variables\n",
    "\n",
    "  # calculating the gradients\n",
    "  gradients = tape.gradient(loss, trainable_variables)\n",
    "\n",
    "  # updating the weights\n",
    "  optimizer.apply_gradients(zip(gradients, trainable_variables))\n",
    "\n",
    "  return loss, total_loss"
   ]
  },
  {
   "cell_type": "code",
   "execution_count": 30,
   "metadata": {
    "colab": {
     "base_uri": "https://localhost:8080/",
     "height": 1000
    },
    "colab_type": "code",
    "executionInfo": {
     "elapsed": 6714732,
     "status": "error",
     "timestamp": 1573746292076,
     "user": {
      "displayName": "Wenjiang Chen",
      "photoUrl": "https://lh3.googleusercontent.com/a-/AAuE7mBMn6iUe24F4ARB1mZnAAeZXY6kn28FF8QTnvs=s64",
      "userId": "07092294420956086629"
     },
     "user_tz": -480
    },
    "id": "UlA4VIQpRPGo",
    "outputId": "90326bd4-b4a7-49d3-aa42-36d8019817ed"
   },
   "outputs": [
    {
     "name": "stderr",
     "output_type": "stream",
     "text": [
      "2023-07-25 13:17:51.597260: I tensorflow/compiler/xla/stream_executor/cuda/cuda_dnn.cc:432] Loaded cuDNN version 8600\n",
      "2023-07-25 13:17:54.535441: I tensorflow/tsl/platform/default/subprocess.cc:304] Start cannot spawn child process: No such file or directory\n",
      "2023-07-25 13:17:55.580002: W tensorflow/tsl/framework/bfc_allocator.cc:296] Allocator (GPU_0_bfc) ran out of memory trying to allocate 5.05GiB with freed_by_count=0. The caller indicates that this is not a failure, but this may mean that there could be performance gains if more memory were available.\n",
      "2023-07-25 13:17:56.315853: W tensorflow/tsl/framework/bfc_allocator.cc:296] Allocator (GPU_0_bfc) ran out of memory trying to allocate 4.59GiB with freed_by_count=0. The caller indicates that this is not a failure, but this may mean that there could be performance gains if more memory were available.\n",
      "2023-07-25 13:17:57.034183: W tensorflow/tsl/framework/bfc_allocator.cc:296] Allocator (GPU_0_bfc) ran out of memory trying to allocate 6.14GiB with freed_by_count=0. The caller indicates that this is not a failure, but this may mean that there could be performance gains if more memory were available.\n",
      "2023-07-25 13:17:57.844592: W tensorflow/tsl/framework/bfc_allocator.cc:296] Allocator (GPU_0_bfc) ran out of memory trying to allocate 4.50GiB with freed_by_count=0. The caller indicates that this is not a failure, but this may mean that there could be performance gains if more memory were available.\n",
      "2023-07-25 13:17:58.343388: W tensorflow/tsl/framework/bfc_allocator.cc:296] Allocator (GPU_0_bfc) ran out of memory trying to allocate 6.25GiB with freed_by_count=0. The caller indicates that this is not a failure, but this may mean that there could be performance gains if more memory were available.\n",
      "2023-07-25 13:17:58.487671: W tensorflow/tsl/framework/bfc_allocator.cc:296] Allocator (GPU_0_bfc) ran out of memory trying to allocate 3.47GiB with freed_by_count=0. The caller indicates that this is not a failure, but this may mean that there could be performance gains if more memory were available.\n",
      "2023-07-25 13:17:58.753529: W tensorflow/tsl/framework/bfc_allocator.cc:296] Allocator (GPU_0_bfc) ran out of memory trying to allocate 6.88GiB with freed_by_count=0. The caller indicates that this is not a failure, but this may mean that there could be performance gains if more memory were available.\n",
      "2023-07-25 13:17:59.377888: I tensorflow/compiler/xla/service/service.cc:168] XLA service 0x35994280 initialized for platform CUDA (this does not guarantee that XLA will be used). Devices:\n",
      "2023-07-25 13:17:59.377936: I tensorflow/compiler/xla/service/service.cc:176]   StreamExecutor device (0): NVIDIA GeForce GTX 1650, Compute Capability 7.5\n",
      "2023-07-25 13:17:59.534566: I tensorflow/tsl/platform/default/subprocess.cc:304] Start cannot spawn child process: No such file or directory\n",
      "2023-07-25 13:17:59.684920: I ./tensorflow/compiler/jit/device_compiler.h:186] Compiled cluster using XLA!  This line is logged at most once for the lifetime of the process.\n",
      "2023-07-25 13:18:02.887707: W tensorflow/tsl/framework/bfc_allocator.cc:296] Allocator (GPU_0_bfc) ran out of memory trying to allocate 6.79GiB with freed_by_count=0. The caller indicates that this is not a failure, but this may mean that there could be performance gains if more memory were available.\n",
      "2023-07-25 13:18:02.887760: W tensorflow/tsl/framework/bfc_allocator.cc:296] Allocator (GPU_0_bfc) ran out of memory trying to allocate 6.79GiB with freed_by_count=0. The caller indicates that this is not a failure, but this may mean that there could be performance gains if more memory were available.\n",
      "2023-07-25 13:18:03.097741: W tensorflow/tsl/framework/bfc_allocator.cc:296] Allocator (GPU_0_bfc) ran out of memory trying to allocate 6.92GiB with freed_by_count=0. The caller indicates that this is not a failure, but this may mean that there could be performance gains if more memory were available.\n"
     ]
    },
    {
     "name": "stdout",
     "output_type": "stream",
     "text": [
      "Epoch 1 Batch 0 Loss 0.09543842\n",
      "Epoch 1 Batch 100 Loss 0.05806686\n",
      "Epoch 1 Batch 200 Loss 0.05874438\n",
      "Epoch 1 Batch 300 Loss 0.04677048\n",
      "Epoch 1 Batch 400 Loss 0.05622569\n",
      "Epoch 1 Batch 500 Loss 0.04562337\n",
      "Epoch 1 Batch 600 Loss 0.05149126\n",
      "Epoch 1 Batch 700 Loss 0.05721776\n",
      "Epoch 1 Batch 800 Loss 0.05736426\n",
      "Epoch 1 Loss 0.05525272\n",
      "Time taken for 1 epoch 445.1535906791687 sec\n",
      "\n",
      "Epoch 2 Batch 0 Loss 0.05063066\n",
      "Epoch 2 Batch 100 Loss 0.05267177\n",
      "Epoch 2 Batch 200 Loss 0.05555608\n",
      "Epoch 2 Batch 300 Loss 0.04955833\n",
      "Epoch 2 Batch 400 Loss 0.04429884\n",
      "Epoch 2 Batch 500 Loss 0.04861339\n",
      "Epoch 2 Batch 600 Loss 0.04710561\n",
      "Epoch 2 Batch 700 Loss 0.04797137\n",
      "Epoch 2 Batch 800 Loss 0.05030228\n",
      "Epoch 2 Loss 0.05005614\n",
      "Time taken for 1 epoch 420.0952115058899 sec\n",
      "\n",
      "Epoch 3 Batch 0 Loss 0.04688534\n"
     ]
    }
   ],
   "source": [
    "EPOCHS = 500\n",
    "\n",
    "for epoch in range(start_epoch, EPOCHS):\n",
    "    start = time.time()\n",
    "    total_loss = 0\n",
    "\n",
    "    for (batch, (img_tensor, target)) in enumerate(dataset):\n",
    "        batch_loss, t_loss = train_step(img_tensor, target)\n",
    "        total_loss += t_loss\n",
    "\n",
    "        if batch % 100 == 0:\n",
    "            print ('Epoch {} Batch {} Loss {:.8f}'.format(epoch + 1, batch, batch_loss.numpy() / int(target.shape[1])))\n",
    "\n",
    "    loss_plot.append(total_loss / num_steps)\n",
    "\n",
    "    # Dentro do loop de épocas\n",
    "    if epoch % 5 == 0:\n",
    "        ckpt_manager.save()\n",
    "\n",
    "    print ('Epoch {} Loss {:.8f}'.format(epoch + 1, total_loss/num_steps))\n",
    "    print ('Time taken for 1 epoch {} sec\\n'.format(time.time() - start))"
   ]
  },
  {
   "cell_type": "code",
   "execution_count": 160,
   "metadata": {},
   "outputs": [
    {
     "data": {
      "text/plain": [
       "[<tf.Tensor: shape=(), dtype=float32, numpy=0.0038607605>]"
      ]
     },
     "execution_count": 160,
     "metadata": {},
     "output_type": "execute_result"
    }
   ],
   "source": [
    "loss_plot"
   ]
  },
  {
   "cell_type": "code",
   "execution_count": 161,
   "metadata": {
    "colab": {
     "base_uri": "https://localhost:8080/",
     "height": 295
    },
    "colab_type": "code",
    "executionInfo": {
     "elapsed": 1700,
     "status": "ok",
     "timestamp": 1573730663584,
     "user": {
      "displayName": "Wenjiang Chen",
      "photoUrl": "https://lh3.googleusercontent.com/a-/AAuE7mBMn6iUe24F4ARB1mZnAAeZXY6kn28FF8QTnvs=s64",
      "userId": "07092294420956086629"
     },
     "user_tz": -480
    },
    "id": "1Wm83G-ZBPcC",
    "outputId": "fd66cbbe-0564-4e19-95e7-d41359986105"
   },
   "outputs": [
    {
     "data": {
      "image/png": "[encoded data removed]",
      "text/plain": [
       "<Figure size 640x480 with 1 Axes>"
      ]
     },
     "metadata": {},
     "output_type": "display_data"
    }
   ],
   "source": [
    "plt.plot(loss_plot)\n",
    "plt.xlabel('Epochs')\n",
    "plt.ylabel('Loss')\n",
    "plt.title('Loss Plot')\n",
    "plt.show()"
   ]
  },
  {
   "cell_type": "code",
   "execution_count": 162,
   "metadata": {
    "colab": {},
    "colab_type": "code",
    "id": "RCWpDtyNRPGs"
   },
   "outputs": [],
   "source": [
    "def evaluate(image):\n",
    "    # Initialize the attention plot matrix\n",
    "    attention_plot = np.zeros((max_length, attention_features_shape))\n",
    "\n",
    "    # Reset the hidden state of the decoder for each evaluation\n",
    "    hidden = decoder.reset_state(batch_size=1)\n",
    "\n",
    "    # Preprocess the image and extract relevant features using the encoder\n",
    "    temp_input = tf.expand_dims(load_image(image)[0], 0)\n",
    "    features = encoder(temp_input)\n",
    "\n",
    "    # Set the initial input for the decoder as the start token\n",
    "    dec_input = tf.expand_dims([START_TOKEN], 0)\n",
    "    result = []\n",
    "\n",
    "    loss = 0\n",
    "    # Generate predictions and attention weights for each step up to the maximum length\n",
    "    # max_length is the maximum length of the target sentence\n",
    "    for i in range(max_length):\n",
    "        predictions, hidden, attention_weights = decoder(dec_input, features, hidden)\n",
    "\n",
    "        # calculate error\n",
    "        loss += loss_function(dec_input, predictions)\n",
    "\n",
    "        # Store the attention weights in the attention plot matrix\n",
    "        attention_plot[i] = tf.reshape(attention_weights, (-1, )).numpy()\n",
    "\n",
    "        # Convert the predictions to a numpy array\n",
    "        predictions = predictions.numpy()\n",
    "\n",
    "        # Check if the sum of predictions is below a threshold to end the sequence\n",
    "        if np.sum(predictions[0]) < 0.1:\n",
    "            break\n",
    "            \n",
    "        # Append the predictions to the result list\n",
    "        result.append(predictions[0])\n",
    "\n",
    "        # Update the decoder input with the predictions for the next step\n",
    "        dec_input = tf.expand_dims(predictions, 0)\n",
    "\n",
    "    # Trim the attention plot matrix to match the length of the result list\n",
    "    attention_plot = attention_plot[:len(result), :]\n",
    "\n",
    "    # Return the result list and the attention plot matrix\n",
    "    return result, attention_plot\n"
   ]
  },
  {
   "cell_type": "markdown",
   "metadata": {},
   "source": [
    "## Predictions"
   ]
  },
  {
   "cell_type": "code",
   "execution_count": 203,
   "metadata": {},
   "outputs": [
    {
     "name": "stdout",
     "output_type": "stream",
     "text": [
      "C:/Users/fabri/OneDrive/Área de Trabalho/BarchartReverseEngineeringa/dataset/train/plots/train_549.png\n",
      "[[1.0, 1.0, 0.0], [0.38852813852813856, 0.20373376623376624, 0.5822510822510822], [0.48484848484848486, 0.5170454545454546, 0.774891774891775], [0.3712121212121212, 0.8303571428571429, 0.5476190476190477], [0.0, 0.0, 0.0], [0.0, 0.0, 0.0], [0.0, 0.0, 0.0], [0.0, 0.0, 0.0], [0.0, 0.0, 0.0], [0.0, 0.0, 0.0], [0.0, 0.0, 0.0]]\n"
     ]
    }
   ],
   "source": [
    "# extractions on the validation set\n",
    "image = img_name_val[3]\n",
    "target = bar_val[3]\n",
    "print(image)\n",
    "print(target)\n",
    "\n",
    "result, attention_plot = evaluate(image)"
   ]
  },
  {
   "cell_type": "code",
   "execution_count": 204,
   "metadata": {},
   "outputs": [
    {
     "name": "stdout",
     "output_type": "stream",
     "text": [
      "Real:  [[1.0, 1.0, 0.0], [0.38852813852813856, 0.20373376623376624, 0.5822510822510822], [0.48484848484848486, 0.5170454545454546, 0.774891774891775], [0.3712121212121212, 0.8303571428571429, 0.5476190476190477], [0.0, 0.0, 0.0], [0.0, 0.0, 0.0], [0.0, 0.0, 0.0], [0.0, 0.0, 0.0], [0.0, 0.0, 0.0], [0.0, 0.0, 0.0], [0.0, 0.0, 0.0]]\n",
      "Pred:  [array([0.34600142, 0.20030984, 0.52087915], dtype=float32), array([0.48626396, 0.5227045 , 0.7705489 ], dtype=float32), array([0.40314022, 0.8474501 , 0.54547125], dtype=float32)]\n"
     ]
    }
   ],
   "source": [
    "print('Real: ', target)\n",
    "print('Pred: ', result)"
   ]
  },
  {
   "cell_type": "code",
   "execution_count": 224,
   "metadata": {},
   "outputs": [
    {
     "name": "stderr",
     "output_type": "stream",
     "text": [
      "1200it [04:15,  4.69it/s]\n"
     ]
    },
    {
     "data": {
      "text/plain": [
       "0.2212360978849874"
      ]
     },
     "execution_count": 224,
     "metadata": {},
     "output_type": "execute_result"
    }
   ],
   "source": [
    "def error_one(Real, Pred):\n",
    "    # MeanSquaredError\n",
    "    error = 0\n",
    "    for i in range(len(Pred)):\n",
    "        if i+1 < len(Real):  # Check if index is within range\n",
    "            error += (Real[i+1][2] - Pred[i][2])**2\n",
    "\n",
    "    return error\n",
    "\n",
    "def calculate_third_value_error(img_name_val, bar_val):\n",
    "    error = 0\n",
    "    for img, bar in tqdm(zip(img_name_val, bar_val)):\n",
    "        result, attention_plot = evaluate(img)\n",
    "        error += error_one(bar, result)\n",
    "    \n",
    "    return error / len(img_name_val)\n",
    "\n",
    "calculate_third_value_error(img_name_val, bar_val)"
   ]
  },
  {
   "cell_type": "code",
   "execution_count": null,
   "metadata": {},
   "outputs": [],
   "source": [
    "calculate_third_value_error(img_name_train, bar_train)"
   ]
  },
  {
   "cell_type": "markdown",
   "metadata": {},
   "source": [
    "## Attention"
   ]
  },
  {
   "cell_type": "code",
   "execution_count": 205,
   "metadata": {},
   "outputs": [],
   "source": [
    "def plot_attention(image, result, attention_plot):\n",
    "    temp_image = np.array(Image.open(image))\n",
    "    fig = plt.figure(figsize=(15, 15))\n",
    "\n",
    "    fname = os.path.basename(image)\n",
    "    np.save(fname, attention_plot)\n",
    "\n",
    "    len_result = len(result)\n",
    "    for l in range(len_result):\n",
    "        temp_att = np.resize(attention_plot[l], (10, 10))\n",
    "        temp_att = cv2.GaussianBlur(temp_att, (3, 3), 0)\n",
    "        ax = fig.add_subplot(len_result, 1, l+1)\n",
    "        ax.set_title(result[l])\n",
    "        img = ax.imshow(temp_image)\n",
    "        ax.imshow(temp_att, cmap='gray', alpha=0.6, extent=img.get_extent())\n",
    "\n",
    "    plt.tight_layout()\n",
    "    plt.show()"
   ]
  },
  {
   "cell_type": "code",
   "execution_count": 206,
   "metadata": {
    "colab": {
     "base_uri": "https://localhost:8080/",
     "height": 1000
    },
    "colab_type": "code",
    "executionInfo": {
     "elapsed": 14130,
     "status": "ok",
     "timestamp": 1573826151657,
     "user": {
      "displayName": "Chen Guanxi",
      "photoUrl": "",
      "userId": "13008137883869623175"
     },
     "user_tz": -480
    },
    "id": "7x8RiPHe_4qI",
    "outputId": "4e8c8941-5697-41d2-ac08-941ad9b4d68e"
   },
   "outputs": [
    {
     "name": "stderr",
     "output_type": "stream",
     "text": [
      "c:\\Users\\fabri\\anaconda\\envs\\poco\\lib\\site-packages\\matplotlib\\text.py:1279: FutureWarning: elementwise comparison failed; returning scalar instead, but in the future will perform elementwise comparison\n",
      "  if s != self._text:\n"
     ]
    },
    {
     "data": {
      "image/png": "[encoded data removed]",
      "text/plain": [
       "<Figure size 1500x1500 with 3 Axes>"
      ]
     },
     "metadata": {},
     "output_type": "display_data"
    }
   ],
   "source": [
    "plot_attention(image, result, attention_plot)\n",
    "# opening the image\n",
    "#Image.open(img_name_train[rid])"
   ]
  },
  {
   "cell_type": "code",
   "execution_count": 209,
   "metadata": {},
   "outputs": [
    {
     "data": {
      "image/png": "[encoded data removed]",
      "text/plain": [
       "<Figure size 640x480 with 1 Axes>"
      ]
     },
     "metadata": {},
     "output_type": "display_data"
    }
   ],
   "source": [
    "\n",
    "def plot_lines_on_image(pred, image_path, direction):\n",
    "    # Load the image\n",
    "    image = plt.imread(image_path)\n",
    "\n",
    "    # Create a figure and axis\n",
    "    fig, ax = plt.subplots()\n",
    "\n",
    "    # Display the image\n",
    "    ax.imshow(image)\n",
    "\n",
    "    # Plot the lines on the image using the \"Pred\" values\n",
    "    for center_width in pred:\n",
    "        center_x, center_y, width = center_width\n",
    "\n",
    "        # Assuming center_x and center_y are in the range [0, 1], we can convert them to pixel coordinates\n",
    "        x = center_x * image.shape[1]\n",
    "        y = center_y * image.shape[0]\n",
    "\n",
    "        # Calculate the coordinates of the two endpoints of the line based on the direction\n",
    "        if direction == 'horizontal':\n",
    "            w = width * image.shape[1]\n",
    "            x1 = x - w / 2\n",
    "            x2 = x + w / 2\n",
    "            y1 = y\n",
    "            y2 = y\n",
    "        elif direction == 'vertical':\n",
    "            w = width * image.shape[0]\n",
    "            x1 = x\n",
    "            x2 = x\n",
    "            y1 = y - w / 2\n",
    "            y2 = y + w / 2\n",
    "        else:\n",
    "            raise ValueError(\"Invalid direction. Use 'horizontal' or 'vertical'.\")\n",
    "\n",
    "        # Plot the line using the endpoints\n",
    "        ax.plot([x1, x2], [y1, y2], color='r', linewidth=1)\n",
    "\n",
    "        # Add a circle at the center\n",
    "        ax.plot(x, y, marker='o', markersize=5, color='g')\n",
    "\n",
    "    # Show the plot with the image and lines\n",
    "    plt.show()\n",
    "\n",
    "plot_lines_on_image(result, 'dataset/train/plots/train_549.png', 'horizontal')"
   ]
  },
  {
   "cell_type": "code",
   "execution_count": null,
   "metadata": {},
   "outputs": [],
   "source": []
  },
  {
   "cell_type": "code",
   "execution_count": null,
   "metadata": {},
   "outputs": [],
   "source": []
  }
 ],
 "metadata": {
  "accelerator": "GPU",
  "colab": {
   "collapsed_sections": [],
   "name": "chart2data_local.ipynb",
   "provenance": []
  },
  "kernelspec": {
   "display_name": "Python 3 (ipykernel)",
   "language": "python",
   "name": "python3"
  },
  "language_info": {
   "codemirror_mode": {
    "name": "ipython",
    "version": 3
   },
   "file_extension": ".py",
   "mimetype": "text/x-python",
   "name": "python",
   "nbconvert_exporter": "python",
   "pygments_lexer": "ipython3",
   "version": "3.11.4"
  }
 },
 "nbformat": 4,
 "nbformat_minor": 1
}
