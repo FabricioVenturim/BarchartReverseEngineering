{
 "cells": [
  {
   "cell_type": "code",
   "execution_count": 5,
   "metadata": {
    "colab": {
     "base_uri": "https://localhost:8080/",
     "height": 34
    },
    "colab_type": "code",
    "executionInfo": {
     "elapsed": 7334,
     "status": "ok",
     "timestamp": 1576554298643,
     "user": {
      "displayName": "Wenjiang Chen",
      "photoUrl": "https://lh3.googleusercontent.com/a-/AAuE7mBMn6iUe24F4ARB1mZnAAeZXY6kn28FF8QTnvs=s64",
      "userId": "07092294420956086629"
     },
     "user_tz": -480
    },
    "id": "U8l4RJ0XRPEm",
    "outputId": "c3e4da8f-b0d5-4e6f-cd5e-5b922dc473b1"
   },
   "outputs": [],
   "source": [
    "import tensorflow as tf\n",
    "from tensorflow.keras.callbacks import ModelCheckpoint\n",
    "from tensorflow.keras.models import save_model, load_model\n",
    "\n",
    "# You'll generate plots of attention in order to see which parts of an image\n",
    "# our model focuses on during captioning\n",
    "import matplotlib.pyplot as plt\n",
    "\n",
    "# Scikit-learn includes many helpful utilities\n",
    "from sklearn.model_selection import train_test_split\n",
    "from sklearn.utils import shuffle\n",
    "\n",
    "\n",
    "import re\n",
    "import numpy as np\n",
    "import os\n",
    "import time\n",
    "import json\n",
    "import pickle\n",
    "import ast\n",
    "import cv2\n",
    "\n",
    "from glob import glob\n",
    "from PIL import Image\n",
    "from tqdm import tqdm"
   ]
  },
  {
   "cell_type": "code",
   "execution_count": 6,
   "metadata": {},
   "outputs": [
    {
     "name": "stdout",
     "output_type": "stream",
     "text": [
      "Versão do TensorFlow: 2.13.0\n"
     ]
    }
   ],
   "source": [
    "print(\"Versão do TensorFlow:\", tf.__version__)"
   ]
  },
  {
   "cell_type": "code",
   "execution_count": 7,
   "metadata": {},
   "outputs": [
    {
     "data": {
      "text/plain": [
       "[PhysicalDevice(name='/physical_device:CPU:0', device_type='CPU')]"
      ]
     },
     "execution_count": 7,
     "metadata": {},
     "output_type": "execute_result"
    }
   ],
   "source": [
    "tf.config.list_physical_devices()"
   ]
  },
  {
   "cell_type": "code",
   "execution_count": 98,
   "metadata": {
    "colab": {},
    "colab_type": "code",
    "id": "mGFm1-wVu2I1"
   },
   "outputs": [],
   "source": [
    "# Configuration\n",
    "SEP = \" -<>- \"\n",
    "IMG_SIZE = 299\n",
    "MAX_LENGTH = 9\n",
    "\n",
    "\n",
    "PATH = \"C:/Users/fabri/OneDrive/Área de Trabalho/BarchartReverseEngineering/dataset/train\"\n",
    "IMG_PATH = PATH + \"/plots/\"\n",
    "BARS_PATH = PATH + \"/train_barbbox.idl\"\n",
    "IMGSIZE_PATH = PATH + \"/train_imgsize.idl\"\n",
    "\n",
    "START_TOKEN = [1.0, 1.0, 0.0] \n",
    "END_TOKEN = [0.0, 0.0, 0.0]"
   ]
  },
  {
   "cell_type": "code",
   "execution_count": 124,
   "metadata": {
    "colab": {},
    "colab_type": "code",
    "id": "Dd7U1JLlzNSd"
   },
   "outputs": [],
   "source": [
    "# utilities\n",
    "\n",
    "def get_normalized_data(bbox, real_imgsize):\n",
    "    '''\n",
    "    return bar's center coordinate and height\n",
    "\n",
    "    Parameters:\n",
    "    bbox (list): [x1, y1, x2, y2]\n",
    "    real_imgsize (tuple): (imgsize, bar_direction)\n",
    "    '''\n",
    "    \n",
    "    imgsize, bar_direction = real_imgsize\n",
    "    # top-left and bottom-right x coordinates divided by image width\n",
    "    bbox[0] /= imgsize[0]\n",
    "    bbox[2] /= imgsize[0]\n",
    "    # top-left and bottom-right y coordinates divided by image height\n",
    "    bbox[1] /= imgsize[1]\n",
    "    bbox[3] /= imgsize[1]\n",
    "    \n",
    "    # normalized height\n",
    "    if bar_direction == \"vertical\":\n",
    "        height = abs(bbox[3] - bbox[1])\n",
    "        result = [bbox[3], bbox[1], height]\n",
    "    else:\n",
    "        height = abs(bbox[2] - bbox[0])\n",
    "        result = [bbox[2], bbox[0], height]\n",
    "\n",
    "    return result\n",
    "\n",
    "def load_image(image_path):\n",
    "    img = tf.io.read_file(image_path)\n",
    "    # decode_jpeg also works for png\n",
    "    img = tf.image.decode_jpeg(img, channels=3)\n",
    "    img = tf.image.resize(img, (299, 299))\n",
    "    img = tf.keras.applications.xception.preprocess_input(img)\n",
    "    return img, image_path"
   ]
  },
  {
   "cell_type": "code",
   "execution_count": 125,
   "metadata": {
    "colab": {
     "base_uri": "https://localhost:8080/",
     "height": 34
    },
    "colab_type": "code",
    "executionInfo": {
     "elapsed": 7936,
     "status": "ok",
     "timestamp": 1576554736603,
     "user": {
      "displayName": "Wenjiang Chen",
      "photoUrl": "https://lh3.googleusercontent.com/a-/AAuE7mBMn6iUe24F4ARB1mZnAAeZXY6kn28FF8QTnvs=s64",
      "userId": "07092294420956086629"
     },
     "user_tz": -480
    },
    "id": "4G3b8x8_RPFD",
    "outputId": "3f000a3a-2b7e-489b-cdc1-ad2330066fae"
   },
   "outputs": [
    {
     "name": "stderr",
     "output_type": "stream",
     "text": [
      "30000it [00:07, 4219.21it/s]\n"
     ]
    }
   ],
   "source": [
    "all_bars = []\n",
    "all_img_name_vector = []\n",
    "\n",
    "# BAR_PATH = \"C:/Users/fabri/OneDrive/Área de Trabalho/BarchartReverseEngineering/data/train/train_barbbox.idl\"\n",
    "# IMGSIZE_PATH = \"C:/Users/fabri/OneDrive/Área de Trabalho/BarchartReverseEngineering/data/train/train_imgsize.idl\"\n",
    "\n",
    "\n",
    "with open(BARS_PATH, \"r\") as fbar, open(IMGSIZE_PATH, \"r\") as fsize:\n",
    "    # fsize is the file that contains the image size\n",
    "    # fbar is the file that contains the bar's bounding box\n",
    "\n",
    "    for bars, imgsize in tqdm(zip(fbar, fsize)):\n",
    "        bars = bars.strip() #remove \\n\n",
    "        imgsize = imgsize.strip() #remove \\n\n",
    "        bars = bars.split(SEP) # split by separator\n",
    "        imgsize = imgsize.split(SEP) # split by separator\n",
    "        assert bars[0] == imgsize[0], \"image name not match!\" # check if the image name is the same\n",
    "        \n",
    "        all_img_name_vector.append(IMG_PATH + bars[0]) # add image path to the vector\n",
    "        boxs = ast.literal_eval(bars[1]) # convert string to list\n",
    "        imgsize = ast.literal_eval(imgsize[1]) # convert string to tuple\n",
    "        one_img_bar = [START_TOKEN] # start-token \n",
    "        \n",
    "        for box in boxs:\n",
    "            bbox = box[\"bbox\"]\n",
    "            bar_info = get_normalized_data(bbox, imgsize)\n",
    "            one_img_bar.append(bar_info)\n",
    "        one_img_bar.append(END_TOKEN) # end-token\n",
    "        # padding the sequence\n",
    "        if len(one_img_bar) < MAX_LENGTH + 2:\n",
    "            need = MAX_LENGTH + 2 - len(one_img_bar)\n",
    "            for i in range(need):\n",
    "                one_img_bar.append(END_TOKEN)\n",
    "        \n",
    "        all_bars.append(one_img_bar)\n",
    "\n",
    "bars_vector, img_name_vector = shuffle(all_bars, all_img_name_vector, random_state=1)"
   ]
  },
  {
   "cell_type": "markdown",
   "metadata": {},
   "source": [
    "First value: Y coordinate of the center of the bar.\n",
    "\n",
    "Second value: X-coordinate of the center of the bar.\n",
    "\n",
    "Third value: Normalized bar height."
   ]
  },
  {
   "cell_type": "code",
   "execution_count": null,
   "metadata": {
    "colab": {
     "base_uri": "https://localhost:8080/",
     "height": 70
    },
    "colab_type": "code",
    "executionInfo": {
     "elapsed": 7821,
     "status": "ok",
     "timestamp": 1576554737048,
     "user": {
      "displayName": "Wenjiang Chen",
      "photoUrl": "https://lh3.googleusercontent.com/a-/AAuE7mBMn6iUe24F4ARB1mZnAAeZXY6kn28FF8QTnvs=s64",
      "userId": "07092294420956086629"
     },
     "user_tz": -480
    },
    "id": "mPBMgK34RPFL",
    "outputId": "5a41883c-152d-4978-9df0-fbe12fc561d2"
   },
   "outputs": [
    {
     "name": "stdout",
     "output_type": "stream",
     "text": [
      "11 103\n",
      "[[1.0, 1.0, 0.0], [0.6014492753623188, 0.1497584541062802, 0.45169082125603865], [0.855072463768116, 0.1497584541062802, 0.7053140096618358], [0.8260869565217391, 0.1497584541062802, 0.6763285024154589], [0.5024154589371981, 0.1497584541062802, 0.3526570048309179], [0.8623188405797102, 0.1497584541062802, 0.71256038647343], [0.8502415458937198, 0.1497584541062802, 0.7004830917874396], [0.0, 0.0, 0.0], [0.0, 0.0, 0.0], [0.0, 0.0, 0.0], [0.0, 0.0, 0.0]]\n",
      "C:/Users/fabri/OneDrive/Área de Trabalho/BarchartReverseEngineering/dataset/train/plots/train_10747.png\n"
     ]
    }
   ],
   "source": [
    "# *** unit test section ***\n",
    "print(len(bars_vector[0]), len(img_name_vector[0]))\n",
    "print(bars_vector[0])\n",
    "print(img_name_vector[0])"
   ]
  },
  {
   "cell_type": "code",
   "execution_count": null,
   "metadata": {},
   "outputs": [
    {
     "name": "stdout",
     "output_type": "stream",
     "text": [
      "30000 30000\n"
     ]
    }
   ],
   "source": [
    "print(len(img_name_vector), len(bars_vector))"
   ]
  },
  {
   "cell_type": "code",
   "execution_count": null,
   "metadata": {
    "colab": {},
    "colab_type": "code",
    "id": "iS7DDMszRPGF"
   },
   "outputs": [],
   "source": [
    "max_length = MAX_LENGTH + 2\n",
    "\n",
    "# higher some data just to test the model\n",
    "# img_name_vector = img_name_vector[:int(len(img_name_vector) * 1/50)]\n",
    "# bars_vector = bars_vector[:int(len(bars_vector) * 1/50)]\n",
    "\n",
    "# Create training and validation sets\n",
    "img_name_train, img_name_val, bar_train, bar_val = train_test_split(img_name_vector, bars_vector, test_size=0.04, random_state=0)"
   ]
  },
  {
   "cell_type": "code",
   "execution_count": null,
   "metadata": {
    "colab": {
     "base_uri": "https://localhost:8080/",
     "height": 34
    },
    "colab_type": "code",
    "executionInfo": {
     "elapsed": 2931,
     "status": "ok",
     "timestamp": 1576554737051,
     "user": {
      "displayName": "Wenjiang Chen",
      "photoUrl": "https://lh3.googleusercontent.com/a-/AAuE7mBMn6iUe24F4ARB1mZnAAeZXY6kn28FF8QTnvs=s64",
      "userId": "07092294420956086629"
     },
     "user_tz": -480
    },
    "id": "XmViPkRFRPGH",
    "outputId": "a8aef13e-58f5-4786-f889-fbd56508cf1d"
   },
   "outputs": [
    {
     "data": {
      "text/plain": [
       "(28800, 28800, 1200, 1200)"
      ]
     },
     "execution_count": 33,
     "metadata": {},
     "output_type": "execute_result"
    }
   ],
   "source": [
    "len(img_name_train), len(bar_train), len(img_name_val), len(bar_val)"
   ]
  },
  {
   "cell_type": "code",
   "execution_count": null,
   "metadata": {
    "colab": {},
    "colab_type": "code",
    "id": "Q3TnZ1ToRPGV"
   },
   "outputs": [],
   "source": [
    "# Feel free to change these parameters according to your system's configuration\n",
    "\n",
    "BATCH_SIZE = 32 \n",
    "BUFFER_SIZE = 1000\n",
    "embedding_dim = 256\n",
    "units = 512\n",
    "barinfo_size = 3\n",
    "num_steps = len(img_name_train) // BATCH_SIZE\n",
    "# Shape of the vector extracted from InceptionV3 is (64, 2048)\n",
    "# These two variables represent that vector shape\n",
    "features_shape = 2048\n",
    "attention_features_shape = 100"
   ]
  },
  {
   "cell_type": "code",
   "execution_count": null,
   "metadata": {
    "colab": {},
    "colab_type": "code",
    "id": "SmZS2N0bXG3T"
   },
   "outputs": [],
   "source": [
    "# Load the numpy files\n",
    "def map_func(img_name, cap):\n",
    "    #img_tensor = np.load(img_name.decode('utf-8')+'.npy')\n",
    "    img_tensor, _ = load_image(img_name)\n",
    "    return img_tensor, cap"
   ]
  },
  {
   "cell_type": "code",
   "execution_count": null,
   "metadata": {
    "colab": {},
    "colab_type": "code",
    "id": "FDF_Nm3tRPGZ"
   },
   "outputs": [],
   "source": [
    "# create tf dataset object \n",
    "dataset = tf.data.Dataset.from_tensor_slices((img_name_train, bar_train))\n",
    "\n",
    "# Use map to load the numpy files in parallel\n",
    "dataset = dataset.map(lambda item1, item2: tf.numpy_function(\n",
    "          map_func, [item1, item2], [tf.float32, tf.float32]),\n",
    "          num_parallel_calls=tf.data.experimental.AUTOTUNE)\n",
    "\n",
    "# Shuffle and batch\n",
    "dataset = dataset.shuffle(BUFFER_SIZE).batch(BATCH_SIZE)\n",
    "dataset = dataset.prefetch(buffer_size=tf.data.experimental.AUTOTUNE)"
   ]
  },
  {
   "cell_type": "markdown",
   "metadata": {},
   "source": [
    "### Attention Model"
   ]
  },
  {
   "cell_type": "markdown",
   "metadata": {},
   "source": [
    "This class implements the Bahdanau attention mechanism, which is used to calculate attention weights in a neural translation model called Seq2Seq. Bahdanau attention is a form of alignment-based attention that allows the model to focus on different parts of the input while generating the output. In this specific case, the attention is applied to input features generated by a CNN encoder layer."
   ]
  },
  {
   "cell_type": "code",
   "execution_count": null,
   "metadata": {
    "colab": {},
    "colab_type": "code",
    "id": "ja2LFTMSdeV3"
   },
   "outputs": [],
   "source": [
    "class BahdanauAttention(tf.keras.Model):\n",
    "  def __init__(self, units):\n",
    "    # units: dimension of the hidden layer\n",
    "    super(BahdanauAttention, self).__init__()\n",
    "    self.W1 = tf.keras.layers.Dense(units)\n",
    "    self.W2 = tf.keras.layers.Dense(units)\n",
    "    self.V = tf.keras.layers.Dense(1)\n",
    "\n",
    "  def call(self, features, hidden):\n",
    "    # features: CNN_encoder output\n",
    "    # features(CNN_encoder output) shape == (batch_size, 64, embedding_dim)\n",
    "\n",
    "    # hidden: hidden state of the RNN_decoder (last state)\n",
    "    # hidden shape == (batch_size, hidden_size)\n",
    "    # hidden_with_time_axis shape == (batch_size, 1, hidden_size)\n",
    "\n",
    "    hidden_with_time_axis = tf.expand_dims(hidden, 1)\n",
    "\n",
    "    # score shape == (batch_size, 64, hidden_size)\n",
    "    #print(\"feature:\", features.shape)\n",
    "    #print(\"hidden:\", hidden_with_time_axis.shape)\n",
    "    score = tf.nn.tanh(self.W1(features) + self.W2(hidden_with_time_axis))\n",
    "\n",
    "    # attention_weights shape == (batch_size, 64, 1)\n",
    "    # you get 1 at the last axis because you are applying score to self.V\n",
    "    attention_weights = tf.nn.softmax(self.V(score), axis=1)\n",
    "\n",
    "    # context_vector shape after sum == (batch_size, hidden_size)\n",
    "    context_vector = attention_weights * features\n",
    "    context_vector = tf.reduce_sum(context_vector, axis=1)\n",
    "    #print(\"context:\", context_vector.shape)\n",
    "\n",
    "    return context_vector, attention_weights"
   ]
  },
  {
   "cell_type": "markdown",
   "metadata": {},
   "source": [
    "### Encoder"
   ]
  },
  {
   "cell_type": "markdown",
   "metadata": {},
   "source": [
    "This class represents a CNN encoder. It is used to extract features from an input image. It has a pre-trained convolutional neural network (CNN) layer, which is used to extract features from the image. The extracted features are then passed through a dense (fully connected) layer to properly scale them."
   ]
  },
  {
   "cell_type": "code",
   "execution_count": null,
   "metadata": {
    "colab": {},
    "colab_type": "code",
    "id": "AZ7R1RxHRPGf"
   },
   "outputs": [],
   "source": [
    "class CNN_Encoder(tf.keras.Model):\n",
    "    # Since you have already extracted the features and dumped it using pickle\n",
    "    # This encoder passes those features through a Fully connected layer\n",
    "    def __init__(self, embedding_dim):\n",
    "        super(CNN_Encoder, self).__init__()\n",
    "        # shape after fc == (batch_size, 64, embedding_dim)\n",
    "        self.fc = tf.keras.layers.Dense(embedding_dim)\n",
    "\n",
    "        # load the pre-trained model      \n",
    "        image_model = tf.keras.applications.Xception(include_top=False, weights='imagenet', pooling=None)\n",
    "        new_input = image_model.input\n",
    "        hidden_layer = image_model.output\n",
    "\n",
    "        # receive the input and output of the pre-trained model\n",
    "        self.image_features_extract_model = tf.keras.Model(new_input, hidden_layer)\n",
    "        L = len(self.image_features_extract_model.layers)\n",
    "        \n",
    "        # last 10 layers are trainable, others are not trainable\n",
    "        for i, layer in enumerate(self.image_features_extract_model.layers):\n",
    "          if i < L - 10:\n",
    "            layer.trainable = False\n",
    "          else:\n",
    "            layer.trainable = True\n",
    "\n",
    "    def call(self, x):\n",
    "        x = self.image_features_extract_model(x)\n",
    "        x = tf.reshape(x, [x.shape[0], -1, x.shape[-1]]) # (batch_size, 64, embedding_dim)\n",
    "        x = self.fc(x)\n",
    "        x = tf.nn.relu(x)\n",
    "        return x"
   ]
  },
  {
   "cell_type": "markdown",
   "metadata": {},
   "source": [
    "### Decoder"
   ]
  },
  {
   "cell_type": "markdown",
   "metadata": {},
   "source": [
    "This class is responsible for decoding in a Seq2Seq model. It uses an RNN decoder layer (in this case, a GRU layer) to generate the output sequence based on the input features and the hidden state from the previous decoder step. It also uses the Bahdanau attention mechanism to weight the input features according to their relative importance at each decoding step."
   ]
  },
  {
   "cell_type": "code",
   "execution_count": null,
   "metadata": {
    "colab": {},
    "colab_type": "code",
    "id": "V9UbGQmERPGi"
   },
   "outputs": [],
   "source": [
    "class RNN_Decoder(tf.keras.Model):\n",
    "  # RNN_decoder: LSTM\n",
    "  # embedding_dim: dimension of the embedding layer\n",
    "  # units: dimension of the hidden layer\n",
    "  # barinfo_size: dimension of the bar information\n",
    "  def __init__(self, embedding_dim, units, barinfo_size):\n",
    "    super(RNN_Decoder, self).__init__()\n",
    "    self.units = units\n",
    "\n",
    "    # embedding layer to transform the input into a vector of dimension embedding_dim \n",
    "    self.embedding = tf.keras.layers.Dense(embedding_dim, activation=\"relu\")\n",
    "    # GRU: a type of RNN\n",
    "    self.gru = tf.keras.layers.GRU(self.units, return_sequences=True, return_state=True, recurrent_initializer='glorot_uniform')\n",
    "    self.fc1 = tf.keras.layers.Dense(self.units, activation=\"relu\")\n",
    "    self.fc2 = tf.keras.layers.Dense(barinfo_size, activation=\"relu\")\n",
    "\n",
    "    self.attention = BahdanauAttention(self.units)\n",
    "\n",
    "  def call(self, x, features, state):\n",
    "    # defining attention as a separate model\n",
    "    context_vector, attention_weights = self.attention(features, state)\n",
    "    \n",
    "    # x shape after passing through embedding == (batch_size, 1, embedding_dim)\n",
    "    x = self.embedding(x)\n",
    "\n",
    "    # x shape after concatenation == (batch_size, 1, embedding_dim + hidden_size)\n",
    "    # Concatenate the input vector x with the context vector to incorporate relevant information from both the previous bar and the attention-based context. \n",
    "    # This allows the decoder to consider both the local information (previous bar) and the global context (graph features) when generating the next bar information.  \n",
    "    x = tf.concat([tf.expand_dims(context_vector, 1), x], axis=-1)\n",
    "\n",
    "    # passing the concatenated vector to the GRU\n",
    "    #print(\"x:\", x.shape)\n",
    "    #output: a batch of sequences of vectors of dimension units\n",
    "    #state: the last hidden state of the GRU\n",
    "    output, state= self.gru(x)\n",
    "\n",
    "    # shape == (batch_size, max_length, hidden_size)\n",
    "    x = self.fc1(output)\n",
    "\n",
    "    # x shape == (batch_size * max_length, hidden_size)\n",
    "    x = tf.reshape(x, (-1, x.shape[2]))\n",
    "\n",
    "    # output shape == (batch_size * max_length, vocab)\n",
    "    x = self.fc2(x)\n",
    "\n",
    "    return x, state, attention_weights\n",
    "\n",
    "  def reset_state(self, batch_size):\n",
    "    return tf.zeros((batch_size, self.units))"
   ]
  },
  {
   "cell_type": "code",
   "execution_count": null,
   "metadata": {},
   "outputs": [],
   "source": [
    "encoder = CNN_Encoder(embedding_dim)\n",
    "decoder = RNN_Decoder(embedding_dim, units, barinfo_size)"
   ]
  },
  {
   "cell_type": "code",
   "execution_count": null,
   "metadata": {
    "colab": {},
    "colab_type": "code",
    "id": "-bYN7xA0RPGl"
   },
   "outputs": [],
   "source": [
    "# Define the optimizer and the loss function\n",
    "\n",
    "# learning rate decay schedule (exponential decay)\n",
    "lr_schedule = tf.keras.optimizers.schedules.ExponentialDecay(0.001, decay_steps=500, decay_rate=0.96, staircase=True)\n",
    "\n",
    "# update the weights of the model using the stochastic gradient descent (SGD) optimizer\n",
    "optimizer = tf.keras.optimizers.SGD(learning_rate=lr_schedule)\n",
    "#optimizer = tf.keras.optimizers.Adam()\n",
    "#optimizer = tf.keras.optimizers.RMSprop()\n",
    "\n",
    "# loss function\n",
    "loss_object = tf.keras.losses.MeanSquaredError()\n",
    "\n",
    "def loss_function(real, pred):\n",
    "    loss_ = loss_object(real, pred)\n",
    "    return tf.reduce_mean(loss_)"
   ]
  },
  {
   "cell_type": "markdown",
   "metadata": {},
   "source": [
    "========================================================================================================"
   ]
  },
  {
   "cell_type": "code",
   "execution_count": null,
   "metadata": {},
   "outputs": [],
   "source": [
    "checkpoint_path = \"model_checkpoint\"\n",
    "\n",
    "if not os.path.exists(checkpoint_path):\n",
    "    os.makedirs(checkpoint_path)\n",
    "\n",
    "ckpt = tf.train.Checkpoint(encoder=encoder, decoder=decoder)\n",
    "ckpt_manager = tf.train.CheckpointManager(ckpt, checkpoint_path, max_to_keep=5)"
   ]
  },
  {
   "cell_type": "code",
   "execution_count": null,
   "metadata": {},
   "outputs": [
    {
     "name": "stdout",
     "output_type": "stream",
     "text": [
      "Restoring from previous step 200 ...\n"
     ]
    }
   ],
   "source": [
    "start_epoch = 0\n",
    "if ckpt_manager.latest_checkpoint:\n",
    "    start_epoch = int(ckpt_manager.latest_checkpoint.split('-')[-1]) * 5\n",
    "\n",
    "if ckpt_manager.latest_checkpoint:\n",
    "    ckpt.restore(ckpt_manager.latest_checkpoint)\n",
    "    print(f\"Restoring from previous step {start_epoch} ...\")\n",
    "else:\n",
    "    print(\"Training from scratch ...\")"
   ]
  },
  {
   "cell_type": "markdown",
   "metadata": {},
   "source": [
    "========================================================================================================"
   ]
  },
  {
   "cell_type": "code",
   "execution_count": null,
   "metadata": {
    "colab": {},
    "colab_type": "code",
    "id": "Vt4WZ5mhJE-E"
   },
   "outputs": [],
   "source": [
    "# adding this in a separate cell because if you run the training cell\n",
    "# many times, the loss_plot array will be reset\n",
    "loss_plot = []"
   ]
  },
  {
   "cell_type": "code",
   "execution_count": null,
   "metadata": {
    "colab": {},
    "colab_type": "code",
    "id": "sqgyz2ANKlpU"
   },
   "outputs": [],
   "source": [
    "@tf.function\n",
    "def train_step(img_tensor, target):\n",
    "  loss = 0\n",
    "\n",
    "  # initializing the hidden state for each batch\n",
    "  # because the target are not related from image to image\n",
    "  state = decoder.reset_state(batch_size=target.shape[0])\n",
    "\n",
    "  dec_input = tf.expand_dims([START_TOKEN] * BATCH_SIZE, 1)\n",
    "\n",
    "  # gradient \n",
    "  with tf.GradientTape() as tape:\n",
    "      # getting the output from the encoder\n",
    "      features = encoder(img_tensor) # (batch_size, 64, embedding_dim) \n",
    "\n",
    "      # for each bar in the target sequence\n",
    "      for i in range(1, target.shape[1]):\n",
    "          # passing the features through the decoder\n",
    "          predictions, state, _ = decoder(dec_input, features, state)\n",
    "          \n",
    "          loss += loss_function(target[:, i], predictions)\n",
    "\n",
    "          # using teacher forcing\n",
    "          dec_input = tf.expand_dims(target[:, i], 1)\n",
    "\n",
    "  # averaging the loss\n",
    "  total_loss = (loss / int(target.shape[1]))\n",
    "\n",
    "  # getting the trainable variables\n",
    "  trainable_variables = encoder.trainable_variables + decoder.trainable_variables\n",
    "\n",
    "  # calculating the gradients\n",
    "  gradients = tape.gradient(loss, trainable_variables)\n",
    "\n",
    "  # updating the weights\n",
    "  optimizer.apply_gradients(zip(gradients, trainable_variables))\n",
    "\n",
    "  return loss, total_loss"
   ]
  },
  {
   "cell_type": "code",
   "execution_count": null,
   "metadata": {
    "colab": {
     "base_uri": "https://localhost:8080/",
     "height": 1000
    },
    "colab_type": "code",
    "executionInfo": {
     "elapsed": 6714732,
     "status": "error",
     "timestamp": 1573746292076,
     "user": {
      "displayName": "Wenjiang Chen",
      "photoUrl": "https://lh3.googleusercontent.com/a-/AAuE7mBMn6iUe24F4ARB1mZnAAeZXY6kn28FF8QTnvs=s64",
      "userId": "07092294420956086629"
     },
     "user_tz": -480
    },
    "id": "UlA4VIQpRPGo",
    "outputId": "90326bd4-b4a7-49d3-aa42-36d8019817ed"
   },
   "outputs": [
    {
     "name": "stdout",
     "output_type": "stream",
     "text": [
      "Epoch 201 Batch 0 Loss 0.03156832\n",
      "Epoch 201 Batch 100 Loss 0.02910696\n",
      "Epoch 201 Batch 200 Loss 0.02735596\n",
      "Epoch 201 Batch 300 Loss 0.03122565\n",
      "Epoch 201 Batch 400 Loss 0.02903866\n",
      "Epoch 201 Batch 500 Loss 0.02903399\n",
      "Epoch 201 Batch 600 Loss 0.02784901\n",
      "Epoch 201 Batch 700 Loss 0.02855339\n",
      "Epoch 201 Batch 800 Loss 0.03165116\n",
      "Epoch 201 Loss 0.03016038\n",
      "Time taken for 1 epoch 465.9203636646271 sec\n",
      "\n",
      "Epoch 202 Batch 0 Loss 0.02654491\n",
      "Epoch 202 Batch 100 Loss 0.02902162\n",
      "Epoch 202 Batch 200 Loss 0.02888108\n",
      "Epoch 202 Batch 300 Loss 0.02636969\n",
      "Epoch 202 Batch 400 Loss 0.03121053\n",
      "Epoch 202 Batch 500 Loss 0.03053529\n",
      "Epoch 202 Batch 600 Loss 0.02874866\n",
      "Epoch 202 Batch 700 Loss 0.03384474\n",
      "Epoch 202 Batch 800 Loss 0.03224752\n",
      "Epoch 202 Loss 0.03008706\n",
      "Time taken for 1 epoch 441.5528185367584 sec\n",
      "\n",
      "Epoch 203 Batch 0 Loss 0.02901881\n",
      "Epoch 203 Batch 100 Loss 0.02976460\n",
      "Epoch 203 Batch 200 Loss 0.03138809\n",
      "Epoch 203 Batch 300 Loss 0.03092101\n",
      "Epoch 203 Batch 400 Loss 0.02973909\n",
      "Epoch 203 Batch 500 Loss 0.03167022\n",
      "Epoch 203 Batch 600 Loss 0.02328629\n",
      "Epoch 203 Batch 700 Loss 0.03013027\n",
      "Epoch 203 Batch 800 Loss 0.02807121\n",
      "Epoch 203 Loss 0.03001942\n",
      "Time taken for 1 epoch 445.7599310874939 sec\n",
      "\n",
      "Epoch 204 Batch 0 Loss 0.02950936\n",
      "Epoch 204 Batch 100 Loss 0.03009928\n",
      "Epoch 204 Batch 200 Loss 0.03313995\n",
      "Epoch 204 Batch 300 Loss 0.02944722\n",
      "Epoch 204 Batch 400 Loss 0.02968051\n",
      "Epoch 204 Batch 500 Loss 0.03039565\n",
      "Epoch 204 Batch 600 Loss 0.03225645\n",
      "Epoch 204 Batch 700 Loss 0.03063421\n",
      "Epoch 204 Batch 800 Loss 0.03443033\n",
      "Epoch 204 Loss 0.02995825\n",
      "Time taken for 1 epoch 438.4953238964081 sec\n",
      "\n",
      "Epoch 205 Batch 0 Loss 0.02870001\n",
      "Epoch 205 Batch 100 Loss 0.03233997\n",
      "Epoch 205 Batch 200 Loss 0.02657529\n",
      "Epoch 205 Batch 300 Loss 0.02685267\n",
      "Epoch 205 Batch 400 Loss 0.03006113\n",
      "Epoch 205 Batch 500 Loss 0.03047591\n",
      "Epoch 205 Batch 600 Loss 0.03150185\n",
      "Epoch 205 Batch 700 Loss 0.03011624\n",
      "Epoch 205 Batch 800 Loss 0.03156832\n",
      "Epoch 205 Loss 0.02990166\n",
      "Time taken for 1 epoch 436.2794499397278 sec\n",
      "\n",
      "Epoch 206 Batch 0 Loss 0.03146360\n",
      "Epoch 206 Batch 100 Loss 0.03248478\n",
      "Epoch 206 Batch 200 Loss 0.02759539\n",
      "Epoch 206 Batch 300 Loss 0.02511673\n"
     ]
    },
    {
     "ename": "KeyboardInterrupt",
     "evalue": "",
     "output_type": "error",
     "traceback": [
      "\u001b[1;31m---------------------------------------------------------------------------\u001b[0m",
      "\u001b[1;31mKeyboardInterrupt\u001b[0m                         Traceback (most recent call last)",
      "Cell \u001b[1;32mIn[46], line 8\u001b[0m\n\u001b[0;32m      5\u001b[0m total_loss \u001b[39m=\u001b[39m \u001b[39m0\u001b[39m\n\u001b[0;32m      7\u001b[0m \u001b[39mfor\u001b[39;00m (batch, (img_tensor, target)) \u001b[39min\u001b[39;00m \u001b[39menumerate\u001b[39m(dataset):\n\u001b[1;32m----> 8\u001b[0m     batch_loss, t_loss \u001b[39m=\u001b[39m train_step(img_tensor, target)\n\u001b[0;32m      9\u001b[0m     total_loss \u001b[39m+\u001b[39m\u001b[39m=\u001b[39m t_loss\n\u001b[0;32m     11\u001b[0m     \u001b[39mif\u001b[39;00m batch \u001b[39m%\u001b[39m \u001b[39m100\u001b[39m \u001b[39m==\u001b[39m \u001b[39m0\u001b[39m:\n",
      "File \u001b[1;32m~\\AppData\\Roaming\\Python\\Python310\\site-packages\\tensorflow\\python\\util\\traceback_utils.py:150\u001b[0m, in \u001b[0;36mfilter_traceback.<locals>.error_handler\u001b[1;34m(*args, **kwargs)\u001b[0m\n\u001b[0;32m    148\u001b[0m filtered_tb \u001b[39m=\u001b[39m \u001b[39mNone\u001b[39;00m\n\u001b[0;32m    149\u001b[0m \u001b[39mtry\u001b[39;00m:\n\u001b[1;32m--> 150\u001b[0m   \u001b[39mreturn\u001b[39;00m fn(\u001b[39m*\u001b[39margs, \u001b[39m*\u001b[39m\u001b[39m*\u001b[39mkwargs)\n\u001b[0;32m    151\u001b[0m \u001b[39mexcept\u001b[39;00m \u001b[39mException\u001b[39;00m \u001b[39mas\u001b[39;00m e:\n\u001b[0;32m    152\u001b[0m   filtered_tb \u001b[39m=\u001b[39m _process_traceback_frames(e\u001b[39m.\u001b[39m__traceback__)\n",
      "File \u001b[1;32m~\\AppData\\Roaming\\Python\\Python310\\site-packages\\tensorflow\\python\\eager\\def_function.py:915\u001b[0m, in \u001b[0;36mFunction.__call__\u001b[1;34m(self, *args, **kwds)\u001b[0m\n\u001b[0;32m    912\u001b[0m compiler \u001b[39m=\u001b[39m \u001b[39m\"\u001b[39m\u001b[39mxla\u001b[39m\u001b[39m\"\u001b[39m \u001b[39mif\u001b[39;00m \u001b[39mself\u001b[39m\u001b[39m.\u001b[39m_jit_compile \u001b[39melse\u001b[39;00m \u001b[39m\"\u001b[39m\u001b[39mnonXla\u001b[39m\u001b[39m\"\u001b[39m\n\u001b[0;32m    914\u001b[0m \u001b[39mwith\u001b[39;00m OptionalXlaContext(\u001b[39mself\u001b[39m\u001b[39m.\u001b[39m_jit_compile):\n\u001b[1;32m--> 915\u001b[0m   result \u001b[39m=\u001b[39m \u001b[39mself\u001b[39m\u001b[39m.\u001b[39m_call(\u001b[39m*\u001b[39margs, \u001b[39m*\u001b[39m\u001b[39m*\u001b[39mkwds)\n\u001b[0;32m    917\u001b[0m new_tracing_count \u001b[39m=\u001b[39m \u001b[39mself\u001b[39m\u001b[39m.\u001b[39mexperimental_get_tracing_count()\n\u001b[0;32m    918\u001b[0m without_tracing \u001b[39m=\u001b[39m (tracing_count \u001b[39m==\u001b[39m new_tracing_count)\n",
      "File \u001b[1;32m~\\AppData\\Roaming\\Python\\Python310\\site-packages\\tensorflow\\python\\eager\\def_function.py:947\u001b[0m, in \u001b[0;36mFunction._call\u001b[1;34m(self, *args, **kwds)\u001b[0m\n\u001b[0;32m    944\u001b[0m   \u001b[39mself\u001b[39m\u001b[39m.\u001b[39m_lock\u001b[39m.\u001b[39mrelease()\n\u001b[0;32m    945\u001b[0m   \u001b[39m# In this case we have created variables on the first call, so we run the\u001b[39;00m\n\u001b[0;32m    946\u001b[0m   \u001b[39m# defunned version which is guaranteed to never create variables.\u001b[39;00m\n\u001b[1;32m--> 947\u001b[0m   \u001b[39mreturn\u001b[39;00m \u001b[39mself\u001b[39m\u001b[39m.\u001b[39m_stateless_fn(\u001b[39m*\u001b[39margs, \u001b[39m*\u001b[39m\u001b[39m*\u001b[39mkwds)  \u001b[39m# pylint: disable=not-callable\u001b[39;00m\n\u001b[0;32m    948\u001b[0m \u001b[39melif\u001b[39;00m \u001b[39mself\u001b[39m\u001b[39m.\u001b[39m_stateful_fn \u001b[39mis\u001b[39;00m \u001b[39mnot\u001b[39;00m \u001b[39mNone\u001b[39;00m:\n\u001b[0;32m    949\u001b[0m   \u001b[39m# Release the lock early so that multiple threads can perform the call\u001b[39;00m\n\u001b[0;32m    950\u001b[0m   \u001b[39m# in parallel.\u001b[39;00m\n\u001b[0;32m    951\u001b[0m   \u001b[39mself\u001b[39m\u001b[39m.\u001b[39m_lock\u001b[39m.\u001b[39mrelease()\n",
      "File \u001b[1;32m~\\AppData\\Roaming\\Python\\Python310\\site-packages\\tensorflow\\python\\eager\\function.py:2496\u001b[0m, in \u001b[0;36mFunction.__call__\u001b[1;34m(self, *args, **kwargs)\u001b[0m\n\u001b[0;32m   2493\u001b[0m \u001b[39mwith\u001b[39;00m \u001b[39mself\u001b[39m\u001b[39m.\u001b[39m_lock:\n\u001b[0;32m   2494\u001b[0m   (graph_function,\n\u001b[0;32m   2495\u001b[0m    filtered_flat_args) \u001b[39m=\u001b[39m \u001b[39mself\u001b[39m\u001b[39m.\u001b[39m_maybe_define_function(args, kwargs)\n\u001b[1;32m-> 2496\u001b[0m \u001b[39mreturn\u001b[39;00m graph_function\u001b[39m.\u001b[39;49m_call_flat(\n\u001b[0;32m   2497\u001b[0m     filtered_flat_args, captured_inputs\u001b[39m=\u001b[39;49mgraph_function\u001b[39m.\u001b[39;49mcaptured_inputs)\n",
      "File \u001b[1;32m~\\AppData\\Roaming\\Python\\Python310\\site-packages\\tensorflow\\python\\eager\\function.py:1862\u001b[0m, in \u001b[0;36mConcreteFunction._call_flat\u001b[1;34m(self, args, captured_inputs, cancellation_manager)\u001b[0m\n\u001b[0;32m   1858\u001b[0m possible_gradient_type \u001b[39m=\u001b[39m gradients_util\u001b[39m.\u001b[39mPossibleTapeGradientTypes(args)\n\u001b[0;32m   1859\u001b[0m \u001b[39mif\u001b[39;00m (possible_gradient_type \u001b[39m==\u001b[39m gradients_util\u001b[39m.\u001b[39mPOSSIBLE_GRADIENT_TYPES_NONE\n\u001b[0;32m   1860\u001b[0m     \u001b[39mand\u001b[39;00m executing_eagerly):\n\u001b[0;32m   1861\u001b[0m   \u001b[39m# No tape is watching; skip to running the function.\u001b[39;00m\n\u001b[1;32m-> 1862\u001b[0m   \u001b[39mreturn\u001b[39;00m \u001b[39mself\u001b[39m\u001b[39m.\u001b[39m_build_call_outputs(\u001b[39mself\u001b[39;49m\u001b[39m.\u001b[39;49m_inference_function\u001b[39m.\u001b[39;49mcall(\n\u001b[0;32m   1863\u001b[0m       ctx, args, cancellation_manager\u001b[39m=\u001b[39;49mcancellation_manager))\n\u001b[0;32m   1864\u001b[0m forward_backward \u001b[39m=\u001b[39m \u001b[39mself\u001b[39m\u001b[39m.\u001b[39m_select_forward_and_backward_functions(\n\u001b[0;32m   1865\u001b[0m     args,\n\u001b[0;32m   1866\u001b[0m     possible_gradient_type,\n\u001b[0;32m   1867\u001b[0m     executing_eagerly)\n\u001b[0;32m   1868\u001b[0m forward_function, args_with_tangents \u001b[39m=\u001b[39m forward_backward\u001b[39m.\u001b[39mforward()\n",
      "File \u001b[1;32m~\\AppData\\Roaming\\Python\\Python310\\site-packages\\tensorflow\\python\\eager\\function.py:499\u001b[0m, in \u001b[0;36m_EagerDefinedFunction.call\u001b[1;34m(self, ctx, args, cancellation_manager)\u001b[0m\n\u001b[0;32m    497\u001b[0m \u001b[39mwith\u001b[39;00m _InterpolateFunctionError(\u001b[39mself\u001b[39m):\n\u001b[0;32m    498\u001b[0m   \u001b[39mif\u001b[39;00m cancellation_manager \u001b[39mis\u001b[39;00m \u001b[39mNone\u001b[39;00m:\n\u001b[1;32m--> 499\u001b[0m     outputs \u001b[39m=\u001b[39m execute\u001b[39m.\u001b[39;49mexecute(\n\u001b[0;32m    500\u001b[0m         \u001b[39mstr\u001b[39;49m(\u001b[39mself\u001b[39;49m\u001b[39m.\u001b[39;49msignature\u001b[39m.\u001b[39;49mname),\n\u001b[0;32m    501\u001b[0m         num_outputs\u001b[39m=\u001b[39;49m\u001b[39mself\u001b[39;49m\u001b[39m.\u001b[39;49m_num_outputs,\n\u001b[0;32m    502\u001b[0m         inputs\u001b[39m=\u001b[39;49margs,\n\u001b[0;32m    503\u001b[0m         attrs\u001b[39m=\u001b[39;49mattrs,\n\u001b[0;32m    504\u001b[0m         ctx\u001b[39m=\u001b[39;49mctx)\n\u001b[0;32m    505\u001b[0m   \u001b[39melse\u001b[39;00m:\n\u001b[0;32m    506\u001b[0m     outputs \u001b[39m=\u001b[39m execute\u001b[39m.\u001b[39mexecute_with_cancellation(\n\u001b[0;32m    507\u001b[0m         \u001b[39mstr\u001b[39m(\u001b[39mself\u001b[39m\u001b[39m.\u001b[39msignature\u001b[39m.\u001b[39mname),\n\u001b[0;32m    508\u001b[0m         num_outputs\u001b[39m=\u001b[39m\u001b[39mself\u001b[39m\u001b[39m.\u001b[39m_num_outputs,\n\u001b[1;32m   (...)\u001b[0m\n\u001b[0;32m    511\u001b[0m         ctx\u001b[39m=\u001b[39mctx,\n\u001b[0;32m    512\u001b[0m         cancellation_manager\u001b[39m=\u001b[39mcancellation_manager)\n",
      "File \u001b[1;32m~\\AppData\\Roaming\\Python\\Python310\\site-packages\\tensorflow\\python\\eager\\execute.py:54\u001b[0m, in \u001b[0;36mquick_execute\u001b[1;34m(op_name, num_outputs, inputs, attrs, ctx, name)\u001b[0m\n\u001b[0;32m     52\u001b[0m \u001b[39mtry\u001b[39;00m:\n\u001b[0;32m     53\u001b[0m   ctx\u001b[39m.\u001b[39mensure_initialized()\n\u001b[1;32m---> 54\u001b[0m   tensors \u001b[39m=\u001b[39m pywrap_tfe\u001b[39m.\u001b[39;49mTFE_Py_Execute(ctx\u001b[39m.\u001b[39;49m_handle, device_name, op_name,\n\u001b[0;32m     55\u001b[0m                                       inputs, attrs, num_outputs)\n\u001b[0;32m     56\u001b[0m \u001b[39mexcept\u001b[39;00m core\u001b[39m.\u001b[39m_NotOkStatusException \u001b[39mas\u001b[39;00m e:\n\u001b[0;32m     57\u001b[0m   \u001b[39mif\u001b[39;00m name \u001b[39mis\u001b[39;00m \u001b[39mnot\u001b[39;00m \u001b[39mNone\u001b[39;00m:\n",
      "\u001b[1;31mKeyboardInterrupt\u001b[0m: "
     ]
    }
   ],
   "source": [
    "EPOCHS = 500\n",
    "\n",
    "for epoch in range(start_epoch, EPOCHS):\n",
    "    start = time.time()\n",
    "    total_loss = 0\n",
    "\n",
    "    for (batch, (img_tensor, target)) in enumerate(dataset):\n",
    "        batch_loss, t_loss = train_step(img_tensor, target)\n",
    "        total_loss += t_loss\n",
    "\n",
    "        if batch % 100 == 0:\n",
    "            print ('Epoch {} Batch {} Loss {:.8f}'.format(epoch + 1, batch, batch_loss.numpy() / int(target.shape[1])))\n",
    "\n",
    "    loss_plot.append(total_loss / num_steps)\n",
    "\n",
    "    # Dentro do loop de épocas\n",
    "    if epoch % 5 == 0:\n",
    "        ckpt_manager.save()\n",
    "\n",
    "    print ('Epoch {} Loss {:.8f}'.format(epoch + 1, total_loss/num_steps))\n",
    "    print ('Time taken for 1 epoch {} sec\\n'.format(time.time() - start))"
   ]
  },
  {
   "cell_type": "code",
   "execution_count": null,
   "metadata": {},
   "outputs": [
    {
     "data": {
      "text/plain": [
       "[<tf.Tensor: shape=(), dtype=float32, numpy=0.030160384>,\n",
       " <tf.Tensor: shape=(), dtype=float32, numpy=0.03008706>,\n",
       " <tf.Tensor: shape=(), dtype=float32, numpy=0.030019417>,\n",
       " <tf.Tensor: shape=(), dtype=float32, numpy=0.029958246>,\n",
       " <tf.Tensor: shape=(), dtype=float32, numpy=0.029901665>]"
      ]
     },
     "execution_count": 47,
     "metadata": {},
     "output_type": "execute_result"
    }
   ],
   "source": [
    "loss_plot"
   ]
  },
  {
   "cell_type": "code",
   "execution_count": null,
   "metadata": {
    "colab": {
     "base_uri": "https://localhost:8080/",
     "height": 295
    },
    "colab_type": "code",
    "executionInfo": {
     "elapsed": 1700,
     "status": "ok",
     "timestamp": 1573730663584,
     "user": {
      "displayName": "Wenjiang Chen",
      "photoUrl": "https://lh3.googleusercontent.com/a-/AAuE7mBMn6iUe24F4ARB1mZnAAeZXY6kn28FF8QTnvs=s64",
      "userId": "07092294420956086629"
     },
     "user_tz": -480
    },
    "id": "1Wm83G-ZBPcC",
    "outputId": "fd66cbbe-0564-4e19-95e7-d41359986105"
   },
   "outputs": [
    {
     "data": {
      "image/png": "[encoded data removed]",
      "text/plain": [
       "<Figure size 640x480 with 1 Axes>"
      ]
     },
     "metadata": {},
     "output_type": "display_data"
    }
   ],
   "source": [
    "plt.plot(loss_plot)\n",
    "plt.xlabel('Epochs')\n",
    "plt.ylabel('Loss')\n",
    "plt.title('Loss Plot')\n",
    "plt.show()"
   ]
  },
  {
   "cell_type": "code",
   "execution_count": null,
   "metadata": {
    "colab": {},
    "colab_type": "code",
    "id": "RCWpDtyNRPGs"
   },
   "outputs": [],
   "source": [
    "def evaluate(image):\n",
    "    # Initialize the attention plot matrix\n",
    "    attention_plot = np.zeros((max_length, attention_features_shape))\n",
    "\n",
    "    # Reset the hidden state of the decoder for each evaluation\n",
    "    hidden = decoder.reset_state(batch_size=1)\n",
    "\n",
    "    # Preprocess the image and extract relevant features using the encoder\n",
    "    temp_input = tf.expand_dims(load_image(image)[0], 0)\n",
    "    features = encoder(temp_input)\n",
    "\n",
    "    # Set the initial input for the decoder as the start token\n",
    "    dec_input = tf.expand_dims([START_TOKEN], 0)\n",
    "    result = []\n",
    "\n",
    "    # Generate predictions and attention weights for each step up to the maximum length\n",
    "    # max_length is the maximum length of the target sentence\n",
    "    for i in range(max_length):\n",
    "        predictions, hidden, attention_weights = decoder(dec_input, features, hidden)\n",
    "\n",
    "        # Store the attention weights in the attention plot matrix\n",
    "        attention_plot[i] = tf.reshape(attention_weights, (-1, )).numpy()\n",
    "\n",
    "        # Convert the predictions to a numpy array\n",
    "        predictions = predictions.numpy()\n",
    "\n",
    "        # Check if the sum of predictions is below a threshold to end the sequence\n",
    "        if np.sum(predictions[0]) < 0.1:\n",
    "            break\n",
    "            \n",
    "        # Append the predictions to the result list\n",
    "        result.append(predictions[0])\n",
    "\n",
    "        # Update the decoder input with the predictions for the next step\n",
    "        dec_input = tf.expand_dims(predictions, 0)\n",
    "\n",
    "    # Trim the attention plot matrix to match the length of the result list\n",
    "    attention_plot = attention_plot[:len(result), :]\n",
    "\n",
    "    # Return the result list and the attention plot matrix\n",
    "    return result, attention_plot\n"
   ]
  },
  {
   "cell_type": "markdown",
   "metadata": {},
   "source": [
    "## Predictions"
   ]
  },
  {
   "cell_type": "code",
   "execution_count": null,
   "metadata": {},
   "outputs": [
    {
     "name": "stdout",
     "output_type": "stream",
     "text": [
      "C:/Users/fabri/OneDrive/Área de Trabalho/BarchartReverseEngineering/dataset/train/plots/train_20823.png\n",
      "[[1.0, 1.0, 0.0], [0.9053571428571429, 0.2017857142857143, 0.7035714285714285], [0.9053571428571429, 0.13035714285714287, 0.775], [0.0, 0.0, 0.0], [0.0, 0.0, 0.0], [0.0, 0.0, 0.0], [0.0, 0.0, 0.0], [0.0, 0.0, 0.0], [0.0, 0.0, 0.0], [0.0, 0.0, 0.0], [0.0, 0.0, 0.0]]\n"
     ]
    }
   ],
   "source": [
    "# extractions on the validation set\n",
    "image = img_name_val[0]\n",
    "target = bar_val[0]\n",
    "print(image)\n",
    "print(target)\n",
    "\n",
    "result, attention_plot = evaluate(image)"
   ]
  },
  {
   "cell_type": "code",
   "execution_count": null,
   "metadata": {},
   "outputs": [
    {
     "name": "stdout",
     "output_type": "stream",
     "text": [
      "Real:  [[1.0, 1.0, 0.0], [0.9053571428571429, 0.2017857142857143, 0.7035714285714285], [0.9053571428571429, 0.13035714285714287, 0.775], [0.0, 0.0, 0.0], [0.0, 0.0, 0.0], [0.0, 0.0, 0.0], [0.0, 0.0, 0.0], [0.0, 0.0, 0.0], [0.0, 0.0, 0.0], [0.0, 0.0, 0.0], [0.0, 0.0, 0.0]]\n",
      "Pred:  [array([0.8272145, 0.2037313, 0.6269537], dtype=float32), array([0.55684614, 0.15030047, 0.4026751 ], dtype=float32), array([0.4031955 , 0.05066801, 0.3351081 ], dtype=float32), array([0.2072431 , 0.        , 0.19162937], dtype=float32)]\n"
     ]
    }
   ],
   "source": [
    "print('Real: ', target)\n",
    "print('Pred: ', result)"
   ]
  },
  {
   "cell_type": "code",
   "execution_count": null,
   "metadata": {},
   "outputs": [],
   "source": [
    "draw_rectangles(image, result)"
   ]
  },
  {
   "cell_type": "markdown",
   "metadata": {},
   "source": [
    "## Attention"
   ]
  },
  {
   "cell_type": "code",
   "execution_count": null,
   "metadata": {
    "colab": {
     "base_uri": "https://localhost:8080/",
     "height": 1000
    },
    "colab_type": "code",
    "executionInfo": {
     "elapsed": 14130,
     "status": "ok",
     "timestamp": 1573826151657,
     "user": {
      "displayName": "Chen Guanxi",
      "photoUrl": "",
      "userId": "13008137883869623175"
     },
     "user_tz": -480
    },
    "id": "7x8RiPHe_4qI",
    "outputId": "4e8c8941-5697-41d2-ac08-941ad9b4d68e"
   },
   "outputs": [
    {
     "name": "stderr",
     "output_type": "stream",
     "text": [
      "c:\\Users\\fabri\\anaconda\\envs\\poco\\lib\\site-packages\\matplotlib\\text.py:1279: FutureWarning: elementwise comparison failed; returning scalar instead, but in the future will perform elementwise comparison\n",
      "  if s != self._text:\n"
     ]
    },
    {
     "data": {
      "image/png": "[encoded data removed]",
      "text/plain": [
       "<Figure size 1500x1500 with 7 Axes>"
      ]
     },
     "metadata": {},
     "output_type": "display_data"
    }
   ],
   "source": [
    "plot_attention(image, result, attention_plot)\n",
    "# opening the image\n",
    "#Image.open(img_name_train[rid])"
   ]
  },
  {
   "cell_type": "code",
   "execution_count": null,
   "metadata": {},
   "outputs": [],
   "source": []
  },
  {
   "cell_type": "code",
   "execution_count": null,
   "metadata": {},
   "outputs": [],
   "source": []
  }
 ],
 "metadata": {
  "accelerator": "GPU",
  "colab": {
   "collapsed_sections": [],
   "name": "chart2data_local.ipynb",
   "provenance": []
  },
  "kernelspec": {
   "display_name": "Python 3 (ipykernel)",
   "language": "python",
   "name": "python3"
  },
  "language_info": {
   "codemirror_mode": {
    "name": "ipython",
    "version": 3
   },
   "file_extension": ".py",
   "mimetype": "text/x-python",
   "name": "python",
   "nbconvert_exporter": "python",
   "pygments_lexer": "ipython3",
   "version": "3.11.4"
  }
 },
 "nbformat": 4,
 "nbformat_minor": 1
}
