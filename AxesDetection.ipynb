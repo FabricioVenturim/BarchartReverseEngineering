{
 "cells": [
  {
   "cell_type": "markdown",
   "metadata": {},
   "source": [
    "# Axes Detection\n",
    "\n",
    "This code gives a best estimate of the x and y axis (horizontal and vertical axes) for the plot/chart."
   ]
  },
  {
   "cell_type": "code",
   "execution_count": 6,
   "metadata": {},
   "outputs": [
    {
     "name": "stdout",
     "output_type": "stream",
     "text": [
      "%pylab is deprecated, use %matplotlib inline and import the required libraries.\n",
      "Populating the interactive namespace from numpy and matplotlib\n"
     ]
    }
   ],
   "source": [
    "%pylab inline\n",
    "import cv2, imutils\n",
    "import os\n",
    "import numpy as np\n",
    "import matplotlib.pyplot as plt\n",
    "import matplotlib.image as mpimg\n",
    "import tqdm\n",
    "\n",
    "from pathlib import Path\n",
    "from matplotlib import rcParams"
   ]
  },
  {
   "cell_type": "code",
   "execution_count": 18,
   "metadata": {},
   "outputs": [],
   "source": [
    "# Directory of images to run the code on\n",
    "img_dir = 'dataset/test_synthetic/plots'\n",
    "\n",
    "# Directory to save the output images\n",
    "save_dir = 'dataset/out'\n",
    "\n",
    "if not os.path.exists(save_dir):\n",
    "    os.makedirs(save_dir)"
   ]
  },
  {
   "cell_type": "markdown",
   "metadata": {},
   "source": [
    "### Method to detect x and y axis"
   ]
  },
  {
   "cell_type": "code",
   "execution_count": 19,
   "metadata": {},
   "outputs": [],
   "source": [
    "def findMaxConsecutiveOnes(nums) -> int:\n",
    "    count = maxCount = 0\n",
    "    \n",
    "    for i in range(len(nums)):\n",
    "        if nums[i] == 1:\n",
    "            count += 1\n",
    "        else:\n",
    "            maxCount = max(count, maxCount)\n",
    "            count = 0\n",
    "                \n",
    "    return max(count, maxCount)"
   ]
  },
  {
   "cell_type": "code",
   "execution_count": 22,
   "metadata": {},
   "outputs": [],
   "source": [
    "def detectAxes(filepath, threshold=None, debug=False):\n",
    "    if filepath is None:\n",
    "        return None, None\n",
    "    \n",
    "    if threshold is None:\n",
    "        threshold = 10\n",
    "    \n",
    "    image = cv2.imread(filepath)\n",
    "    height, width, channels = image.shape\n",
    "    \n",
    "    gray = cv2.cvtColor(image, cv2.COLOR_BGR2GRAY)\n",
    "    \n",
    "    # Get the max-consecutive-ones for eah column in the bw image, and...\n",
    "    # pick the \"first\" index that fall in [max - threshold, max + threshold]\n",
    "    maxConsecutiveOnes = [findMaxConsecutiveOnes(gray[:, idx] < 200) for idx in range(width)]\n",
    "    start_idx, maxindex, maxcount = 0, 0, max(maxConsecutiveOnes)\n",
    "    while start_idx < width:\n",
    "        if abs(maxConsecutiveOnes[start_idx] - maxcount) <= threshold:\n",
    "            maxindex = start_idx\n",
    "            break\n",
    "            \n",
    "        start_idx += 1\n",
    "           \n",
    "    yaxis = (maxindex, 0, maxindex, height)\n",
    "    \n",
    "    if debug:\n",
    "        fig, ax = plt.subplots(1, 2)\n",
    "\n",
    "        ax[0].imshow(image)\n",
    "\n",
    "        ax[1].plot(maxConsecutiveOnes, color = 'k')\n",
    "        ax[1].axhline(y = max(maxConsecutiveOnes) - 10, color = 'r', linestyle = 'dashed')\n",
    "        ax[1].axhline(y = max(maxConsecutiveOnes) + 10, color = 'r', linestyle = 'dashed')\n",
    "        ax[1].vlines(x = maxindex, ymin = 0.0, ymax = maxConsecutiveOnes[maxindex], color = 'b', linewidth = 4)\n",
    "\n",
    "        plt.show()\n",
    "\n",
    "    # Get the max-consecutive-ones for eah row in the bw image, and...\n",
    "    # pick the \"last\" index that fall in [max - threshold, max + threshold]\n",
    "    maxConsecutiveOnes = [findMaxConsecutiveOnes(gray[idx, :] < 200) for idx in range(height)]\n",
    "    start_idx, maxindex, maxcount = 0, 0, max(maxConsecutiveOnes)\n",
    "    while start_idx < height:\n",
    "        if abs(maxConsecutiveOnes[start_idx] - maxcount) <= threshold:\n",
    "            maxindex = start_idx\n",
    "            \n",
    "        start_idx += 1\n",
    "            \n",
    "    cv2.line(image, (0, maxindex), (width, maxindex),  (255, 0, 0), 2)\n",
    "    xaxis = (0, maxindex, width, maxindex)\n",
    "    \n",
    "    if debug:\n",
    "        rcParams['figure.figsize'] = 15, 8\n",
    "\n",
    "        fig, ax = plt.subplots(1, 1)\n",
    "        ax.imshow(image, aspect = 'auto')\n",
    "        \n",
    "    return xaxis, yaxis"
   ]
  },
  {
   "cell_type": "code",
   "execution_count": 31,
   "metadata": {
    "scrolled": false
   },
   "outputs": [
    {
     "name": "stdout",
     "output_type": "stream",
     "text": [
      "test_synthetic_42.jpg\n",
      "(57, 286, 57, 286)\n"
     ]
    }
   ],
   "source": [
    "for path in Path(img_dir).iterdir():\n",
    "    print(path.name)\n",
    "    filepath = img_dir + \"/\" + path.name\n",
    "    image = cv2.imread(filepath)\n",
    "    xaxis, yaxis, bars_area = detectAxes(filepath)\n",
    "\n",
    "    for (x1, y1, x2, y2) in [xaxis]:\n",
    "        cv2.line(image, (x1, y1), (x2, y2),  (0, 0, 255), 2)\n",
    "\n",
    "    for (x1, y1, x2, y2) in [yaxis]:\n",
    "        cv2.line(image, (x1, y1), (x2, y2), (255, 0, 0), 2)\n",
    "\n",
    "\n",
    "\n",
    "    cv2.imwrite(save_dir + '/' + ''.join(path.name.split(\".\")[:-1]) + \"_axes.png\", image)\n",
    "    break"
   ]
  },
  {
   "cell_type": "code",
   "execution_count": null,
   "metadata": {},
   "outputs": [],
   "source": []
  }
 ],
 "metadata": {
  "kernelspec": {
   "display_name": "Python 3",
   "language": "python",
   "name": "python3"
  },
  "language_info": {
   "codemirror_mode": {
    "name": "ipython",
    "version": 3
   },
   "file_extension": ".py",
   "mimetype": "text/x-python",
   "name": "python",
   "nbconvert_exporter": "python",
   "pygments_lexer": "ipython3",
   "version": "3.10.12"
  }
 },
 "nbformat": 4,
 "nbformat_minor": 2
}
